{
 "cells": [
  {
   "cell_type": "code",
   "execution_count": 1,
   "metadata": {
    "collapsed": true
   },
   "outputs": [],
   "source": [
    "import pandas as pd\n",
    "from os import listdir"
   ]
  },
  {
   "cell_type": "code",
   "execution_count": 212,
   "metadata": {
    "collapsed": true
   },
   "outputs": [],
   "source": [
    "top_dirs = [d + \"/\" for d in listdir() if d.startswith(\"sf_pop\")]"
   ]
  },
  {
   "cell_type": "code",
   "execution_count": 213,
   "metadata": {
    "collapsed": false
   },
   "outputs": [
    {
     "data": {
      "text/plain": [
       "['sf_pop_2011/',\n",
       " 'sf_pop_2012/',\n",
       " 'sf_pop_2013/',\n",
       " 'sf_pop_2014/',\n",
       " 'sf_pop_2015/']"
      ]
     },
     "execution_count": 213,
     "metadata": {},
     "output_type": "execute_result"
    }
   ],
   "source": [
    "top_dirs"
   ]
  },
  {
   "cell_type": "code",
   "execution_count": 203,
   "metadata": {
    "collapsed": true
   },
   "outputs": [],
   "source": [
    "dirs = [d + \"/\" for d in listdir() if d.startswith(\"sf_pop\")]\n",
    "data_files = []\n",
    "suffix = \".csv\"\n",
    "bad_word = \"metadata\"\n",
    "\n",
    "# Iterate through directories to assemble list of paths to files we want to parse\n",
    "for d in dirs:\n",
    "    files = [f for f in listdir(d) if f.endswith(suffix) and bad_word not in f]\n",
    "    for f in files:\n",
    "        data_files.append(d + f)"
   ]
  },
  {
   "cell_type": "code",
   "execution_count": 204,
   "metadata": {
    "collapsed": false
   },
   "outputs": [
    {
     "name": "stdout",
     "output_type": "stream",
     "text": [
      "['sf_pop_2011/ACS_11_5YR_DP05_with_ann.csv', 'sf_pop_2012/ACS_12_5YR_DP05_with_ann.csv', 'sf_pop_2013/ACS_13_5YR_DP05_with_ann.csv', 'sf_pop_2014/ACS_14_5YR_DP05_with_ann.csv', 'sf_pop_2015/ACS_15_5YR_DP05_with_ann.csv']\n"
     ]
    }
   ],
   "source": [
    "print(data_files)    "
   ]
  },
  {
   "cell_type": "code",
   "execution_count": 205,
   "metadata": {
    "collapsed": false
   },
   "outputs": [],
   "source": [
    "df = pd.DataFrame()\n",
    "\n",
    "for d in data_files:\n",
    "    # parse year from filename\n",
    "    end = d.find(\"/ACS\")\n",
    "    start = end - 4\n",
    "    year = d[start:end]\n",
    "\n",
    "    if year == '2015':\n",
    "        cols_df = pd.read_csv(d, header=1, usecols=[i for i in range(327)])\n",
    "        cols = list(cols_df.columns)\n",
    "        cols.append(\"Year\")\n",
    "    \n",
    "    # read csv & get correct columns\n",
    "    new_df = pd.read_csv(d, header=None, skiprows=[0, 1], usecols=[i for i in range(327)])\n",
    "    new_df[\"Year\"] = year\n",
    "\n",
    "    # Conditional check for proper concatenation\n",
    "    if df.empty:\n",
    "        df = new_df\n",
    "    else:\n",
    "        df = pd.concat([df, new_df], axis=0, ignore_index=True)\n",
    "\n",
    "df.columns = cols        \n"
   ]
  },
  {
   "cell_type": "code",
   "execution_count": 206,
   "metadata": {
    "collapsed": false
   },
   "outputs": [
    {
     "data": {
      "text/html": [
       "<div>\n",
       "<table border=\"1\" class=\"dataframe\">\n",
       "  <thead>\n",
       "    <tr style=\"text-align: right;\">\n",
       "      <th></th>\n",
       "      <th>Id</th>\n",
       "      <th>Id2</th>\n",
       "      <th>Geography</th>\n",
       "      <th>Estimate; SEX AND AGE - Total population</th>\n",
       "      <th>Margin of Error; SEX AND AGE - Total population</th>\n",
       "      <th>Percent; SEX AND AGE - Total population</th>\n",
       "      <th>Percent Margin of Error; SEX AND AGE - Total population</th>\n",
       "      <th>Estimate; SEX AND AGE - Total population - Male</th>\n",
       "      <th>Margin of Error; SEX AND AGE - Total population - Male</th>\n",
       "      <th>Percent; SEX AND AGE - Total population - Male</th>\n",
       "      <th>...</th>\n",
       "      <th>Percent Margin of Error; HISPANIC OR LATINO AND RACE - Total population - Not Hispanic or Latino - Two or more races - Two races including Some other race</th>\n",
       "      <th>Estimate; HISPANIC OR LATINO AND RACE - Total population - Not Hispanic or Latino - Two or more races - Two races excluding Some other race, and Three or more races</th>\n",
       "      <th>Margin of Error; HISPANIC OR LATINO AND RACE - Total population - Not Hispanic or Latino - Two or more races - Two races excluding Some other race, and Three or more races</th>\n",
       "      <th>Percent; HISPANIC OR LATINO AND RACE - Total population - Not Hispanic or Latino - Two or more races - Two races excluding Some other race, and Three or more races</th>\n",
       "      <th>Percent Margin of Error; HISPANIC OR LATINO AND RACE - Total population - Not Hispanic or Latino - Two or more races - Two races excluding Some other race, and Three or more races</th>\n",
       "      <th>Estimate; HISPANIC OR LATINO AND RACE - Total housing units</th>\n",
       "      <th>Margin of Error; HISPANIC OR LATINO AND RACE - Total housing units</th>\n",
       "      <th>Percent; HISPANIC OR LATINO AND RACE - Total housing units</th>\n",
       "      <th>Percent Margin of Error; HISPANIC OR LATINO AND RACE - Total housing units</th>\n",
       "      <th>Year</th>\n",
       "    </tr>\n",
       "  </thead>\n",
       "  <tbody>\n",
       "    <tr>\n",
       "      <th>0</th>\n",
       "      <td>8600000US89010</td>\n",
       "      <td>89010</td>\n",
       "      <td>ZCTA5 89010</td>\n",
       "      <td>313</td>\n",
       "      <td>92</td>\n",
       "      <td>313</td>\n",
       "      <td>(X)</td>\n",
       "      <td>174</td>\n",
       "      <td>57</td>\n",
       "      <td>55.6</td>\n",
       "      <td>...</td>\n",
       "      <td>9.9</td>\n",
       "      <td>13</td>\n",
       "      <td>17</td>\n",
       "      <td>4.2</td>\n",
       "      <td>5.8</td>\n",
       "      <td>231</td>\n",
       "      <td>47</td>\n",
       "      <td>(X)</td>\n",
       "      <td>(X)</td>\n",
       "      <td>2011</td>\n",
       "    </tr>\n",
       "    <tr>\n",
       "      <th>1</th>\n",
       "      <td>8600000US89019</td>\n",
       "      <td>89019</td>\n",
       "      <td>ZCTA5 89019</td>\n",
       "      <td>2172</td>\n",
       "      <td>731</td>\n",
       "      <td>2172</td>\n",
       "      <td>(X)</td>\n",
       "      <td>1324</td>\n",
       "      <td>455</td>\n",
       "      <td>61.0</td>\n",
       "      <td>...</td>\n",
       "      <td>1.5</td>\n",
       "      <td>78</td>\n",
       "      <td>56</td>\n",
       "      <td>3.6</td>\n",
       "      <td>3.2</td>\n",
       "      <td>1171</td>\n",
       "      <td>256</td>\n",
       "      <td>(X)</td>\n",
       "      <td>(X)</td>\n",
       "      <td>2011</td>\n",
       "    </tr>\n",
       "    <tr>\n",
       "      <th>2</th>\n",
       "      <td>8600000US89060</td>\n",
       "      <td>89060</td>\n",
       "      <td>ZCTA5 89060</td>\n",
       "      <td>10691</td>\n",
       "      <td>1079</td>\n",
       "      <td>10691</td>\n",
       "      <td>(X)</td>\n",
       "      <td>5342</td>\n",
       "      <td>622</td>\n",
       "      <td>50.0</td>\n",
       "      <td>...</td>\n",
       "      <td>0.3</td>\n",
       "      <td>155</td>\n",
       "      <td>126</td>\n",
       "      <td>1.4</td>\n",
       "      <td>1.2</td>\n",
       "      <td>5252</td>\n",
       "      <td>362</td>\n",
       "      <td>(X)</td>\n",
       "      <td>(X)</td>\n",
       "      <td>2011</td>\n",
       "    </tr>\n",
       "    <tr>\n",
       "      <th>3</th>\n",
       "      <td>8600000US89061</td>\n",
       "      <td>89061</td>\n",
       "      <td>ZCTA5 89061</td>\n",
       "      <td>4658</td>\n",
       "      <td>708</td>\n",
       "      <td>4658</td>\n",
       "      <td>(X)</td>\n",
       "      <td>2490</td>\n",
       "      <td>436</td>\n",
       "      <td>53.5</td>\n",
       "      <td>...</td>\n",
       "      <td>0.7</td>\n",
       "      <td>48</td>\n",
       "      <td>46</td>\n",
       "      <td>1.0</td>\n",
       "      <td>1.0</td>\n",
       "      <td>2250</td>\n",
       "      <td>221</td>\n",
       "      <td>(X)</td>\n",
       "      <td>(X)</td>\n",
       "      <td>2011</td>\n",
       "    </tr>\n",
       "    <tr>\n",
       "      <th>4</th>\n",
       "      <td>8600000US89439</td>\n",
       "      <td>89439</td>\n",
       "      <td>ZCTA5 89439</td>\n",
       "      <td>1457</td>\n",
       "      <td>233</td>\n",
       "      <td>1457</td>\n",
       "      <td>(X)</td>\n",
       "      <td>797</td>\n",
       "      <td>131</td>\n",
       "      <td>54.7</td>\n",
       "      <td>...</td>\n",
       "      <td>2.2</td>\n",
       "      <td>0</td>\n",
       "      <td>89</td>\n",
       "      <td>0.0</td>\n",
       "      <td>2.2</td>\n",
       "      <td>762</td>\n",
       "      <td>107</td>\n",
       "      <td>(X)</td>\n",
       "      <td>(X)</td>\n",
       "      <td>2011</td>\n",
       "    </tr>\n",
       "  </tbody>\n",
       "</table>\n",
       "<p>5 rows × 328 columns</p>\n",
       "</div>"
      ],
      "text/plain": [
       "               Id    Id2    Geography  \\\n",
       "0  8600000US89010  89010  ZCTA5 89010   \n",
       "1  8600000US89019  89019  ZCTA5 89019   \n",
       "2  8600000US89060  89060  ZCTA5 89060   \n",
       "3  8600000US89061  89061  ZCTA5 89061   \n",
       "4  8600000US89439  89439  ZCTA5 89439   \n",
       "\n",
       "   Estimate; SEX AND AGE - Total population  \\\n",
       "0                                       313   \n",
       "1                                      2172   \n",
       "2                                     10691   \n",
       "3                                      4658   \n",
       "4                                      1457   \n",
       "\n",
       "   Margin of Error; SEX AND AGE - Total population  \\\n",
       "0                                               92   \n",
       "1                                              731   \n",
       "2                                             1079   \n",
       "3                                              708   \n",
       "4                                              233   \n",
       "\n",
       "   Percent; SEX AND AGE - Total population  \\\n",
       "0                                      313   \n",
       "1                                     2172   \n",
       "2                                    10691   \n",
       "3                                     4658   \n",
       "4                                     1457   \n",
       "\n",
       "  Percent Margin of Error; SEX AND AGE - Total population  \\\n",
       "0                                                (X)        \n",
       "1                                                (X)        \n",
       "2                                                (X)        \n",
       "3                                                (X)        \n",
       "4                                                (X)        \n",
       "\n",
       "   Estimate; SEX AND AGE - Total population - Male  \\\n",
       "0                                              174   \n",
       "1                                             1324   \n",
       "2                                             5342   \n",
       "3                                             2490   \n",
       "4                                              797   \n",
       "\n",
       "   Margin of Error; SEX AND AGE - Total population - Male  \\\n",
       "0                                                 57        \n",
       "1                                                455        \n",
       "2                                                622        \n",
       "3                                                436        \n",
       "4                                                131        \n",
       "\n",
       "  Percent; SEX AND AGE - Total population - Male  ...   \\\n",
       "0                                           55.6  ...    \n",
       "1                                           61.0  ...    \n",
       "2                                           50.0  ...    \n",
       "3                                           53.5  ...    \n",
       "4                                           54.7  ...    \n",
       "\n",
       "  Percent Margin of Error; HISPANIC OR LATINO AND RACE - Total population - Not Hispanic or Latino - Two or more races - Two races including Some other race  \\\n",
       "0                                                9.9                                                                                                           \n",
       "1                                                1.5                                                                                                           \n",
       "2                                                0.3                                                                                                           \n",
       "3                                                0.7                                                                                                           \n",
       "4                                                2.2                                                                                                           \n",
       "\n",
       "   Estimate; HISPANIC OR LATINO AND RACE - Total population - Not Hispanic or Latino - Two or more races - Two races excluding Some other race, and Three or more races  \\\n",
       "0                                                 13                                                                                                                      \n",
       "1                                                 78                                                                                                                      \n",
       "2                                                155                                                                                                                      \n",
       "3                                                 48                                                                                                                      \n",
       "4                                                  0                                                                                                                      \n",
       "\n",
       "   Margin of Error; HISPANIC OR LATINO AND RACE - Total population - Not Hispanic or Latino - Two or more races - Two races excluding Some other race, and Three or more races  \\\n",
       "0                                                 17                                                                                                                             \n",
       "1                                                 56                                                                                                                             \n",
       "2                                                126                                                                                                                             \n",
       "3                                                 46                                                                                                                             \n",
       "4                                                 89                                                                                                                             \n",
       "\n",
       "  Percent; HISPANIC OR LATINO AND RACE - Total population - Not Hispanic or Latino - Two or more races - Two races excluding Some other race, and Three or more races  \\\n",
       "0                                                4.2                                                                                                                    \n",
       "1                                                3.6                                                                                                                    \n",
       "2                                                1.4                                                                                                                    \n",
       "3                                                1.0                                                                                                                    \n",
       "4                                                0.0                                                                                                                    \n",
       "\n",
       "  Percent Margin of Error; HISPANIC OR LATINO AND RACE - Total population - Not Hispanic or Latino - Two or more races - Two races excluding Some other race, and Three or more races  \\\n",
       "0                                                5.8                                                                                                                                    \n",
       "1                                                3.2                                                                                                                                    \n",
       "2                                                1.2                                                                                                                                    \n",
       "3                                                1.0                                                                                                                                    \n",
       "4                                                2.2                                                                                                                                    \n",
       "\n",
       "   Estimate; HISPANIC OR LATINO AND RACE - Total housing units  \\\n",
       "0                                                231             \n",
       "1                                               1171             \n",
       "2                                               5252             \n",
       "3                                               2250             \n",
       "4                                                762             \n",
       "\n",
       "   Margin of Error; HISPANIC OR LATINO AND RACE - Total housing units  \\\n",
       "0                                                 47                    \n",
       "1                                                256                    \n",
       "2                                                362                    \n",
       "3                                                221                    \n",
       "4                                                107                    \n",
       "\n",
       "  Percent; HISPANIC OR LATINO AND RACE - Total housing units  \\\n",
       "0                                                (X)           \n",
       "1                                                (X)           \n",
       "2                                                (X)           \n",
       "3                                                (X)           \n",
       "4                                                (X)           \n",
       "\n",
       "  Percent Margin of Error; HISPANIC OR LATINO AND RACE - Total housing units  \\\n",
       "0                                                (X)                           \n",
       "1                                                (X)                           \n",
       "2                                                (X)                           \n",
       "3                                                (X)                           \n",
       "4                                                (X)                           \n",
       "\n",
       "   Year  \n",
       "0  2011  \n",
       "1  2011  \n",
       "2  2011  \n",
       "3  2011  \n",
       "4  2011  \n",
       "\n",
       "[5 rows x 328 columns]"
      ]
     },
     "execution_count": 206,
     "metadata": {},
     "output_type": "execute_result"
    }
   ],
   "source": [
    "df.head()"
   ]
  },
  {
   "cell_type": "code",
   "execution_count": 207,
   "metadata": {
    "collapsed": false
   },
   "outputs": [
    {
     "name": "stdout",
     "output_type": "stream",
     "text": [
      "8846\n"
     ]
    }
   ],
   "source": [
    "print(len(df))"
   ]
  },
  {
   "cell_type": "code",
   "execution_count": 208,
   "metadata": {
    "collapsed": false
   },
   "outputs": [
    {
     "data": {
      "text/plain": [
       "array(['2011', '2012', '2013', '2014', '2015'], dtype=object)"
      ]
     },
     "execution_count": 208,
     "metadata": {},
     "output_type": "execute_result"
    }
   ],
   "source": [
    "df.Year.unique()"
   ]
  },
  {
   "cell_type": "code",
   "execution_count": 209,
   "metadata": {
    "collapsed": true
   },
   "outputs": [],
   "source": [
    "df.to_csv(\"agg_pop_demo_data.csv\")"
   ]
  },
  {
   "cell_type": "code",
   "execution_count": null,
   "metadata": {
    "collapsed": true
   },
   "outputs": [],
   "source": []
  }
 ],
 "metadata": {
  "kernelspec": {
   "display_name": "Python [conda root]",
   "language": "python",
   "name": "conda-root-py"
  },
  "language_info": {
   "codemirror_mode": {
    "name": "ipython",
    "version": 3
   },
   "file_extension": ".py",
   "mimetype": "text/x-python",
   "name": "python",
   "nbconvert_exporter": "python",
   "pygments_lexer": "ipython3",
   "version": "3.5.2"
  }
 },
 "nbformat": 4,
 "nbformat_minor": 1
}
