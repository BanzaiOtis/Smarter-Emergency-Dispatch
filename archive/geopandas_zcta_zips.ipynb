{
 "cells": [
  {
   "cell_type": "code",
   "execution_count": 1,
   "metadata": {
    "collapsed": false
   },
   "outputs": [
    {
     "name": "stdout",
     "output_type": "stream",
     "text": [
      "3.5.2 |Anaconda custom (64-bit)| (default, Jul  5 2016, 11:41:13) [MSC v.1900 64 bit (AMD64)]\n",
      "1.11.1\n",
      "0.18.1\n"
     ]
    }
   ],
   "source": [
    "%matplotlib inline\n",
    "import sys\n",
    "import numpy as np\n",
    "import pandas as pd\n",
    "import matplotlib.pyplot as plt\n",
    "import math\n",
    "import time\n",
    "import geopandas\n",
    "from IPython.display import display # display(df) shows dataframe in html formatting\n",
    "\n",
    "\n",
    "print(sys.version)\n",
    "print(np.__version__)\n",
    "print(pd.__version__)"
   ]
  },
  {
   "cell_type": "markdown",
   "metadata": {},
   "source": [
    "### Note\n",
    "This requires the `geopandas` package. It didn't install for me with the regular `conda install geopandas`, and instead I needed to use `conda install -c conda-forge geopandas`. I don't know if something similar is required for a `pip install`.\n",
    "\n",
    "Geopandas docs: http://geopandas.org/data_structures.html?highlight=geoseries%20point"
   ]
  },
  {
   "cell_type": "markdown",
   "metadata": {},
   "source": [
    "## 2016 ZCTA file\n",
    "Taken from https://www.census.gov/geo/maps-data/data/cbf/cbf_zcta.html"
   ]
  },
  {
   "cell_type": "code",
   "execution_count": 66,
   "metadata": {
    "collapsed": true
   },
   "outputs": [],
   "source": [
    "gdf = geopandas.read_file('./cb_2016_us_zcta510_500k/cb_2016_us_zcta510_500k.shp')"
   ]
  },
  {
   "cell_type": "markdown",
   "metadata": {},
   "source": [
    "Setting max/min values to box in SF. I grabbed these from Google Maps. They don't need to be precise, as long as the box fully contains SF and doesn't fully contain any other ZCTA"
   ]
  },
  {
   "cell_type": "code",
   "execution_count": 67,
   "metadata": {
    "collapsed": true
   },
   "outputs": [],
   "source": [
    "lon_min = -122.538311\n",
    "lon_max = -122.336087\n",
    "lat_min = 37.699946\n",
    "lat_max = 37.846774"
   ]
  },
  {
   "cell_type": "code",
   "execution_count": 69,
   "metadata": {
    "collapsed": false
   },
   "outputs": [
    {
     "name": "stdout",
     "output_type": "stream",
     "text": [
      "27\n"
     ]
    },
    {
     "data": {
      "text/html": [
       "<div>\n",
       "<table border=\"1\" class=\"dataframe\">\n",
       "  <thead>\n",
       "    <tr style=\"text-align: right;\">\n",
       "      <th></th>\n",
       "      <th>ZCTA5CE10</th>\n",
       "      <th>AFFGEOID10</th>\n",
       "      <th>GEOID10</th>\n",
       "      <th>ALAND10</th>\n",
       "      <th>AWATER10</th>\n",
       "      <th>geometry</th>\n",
       "    </tr>\n",
       "  </thead>\n",
       "  <tbody>\n",
       "    <tr>\n",
       "      <th>102</th>\n",
       "      <td>94102</td>\n",
       "      <td>8600000US94102</td>\n",
       "      <td>94102</td>\n",
       "      <td>1732307</td>\n",
       "      <td>0</td>\n",
       "      <td>POLYGON ((-122.429929 37.777909, -122.426829 3...</td>\n",
       "    </tr>\n",
       "    <tr>\n",
       "      <th>1041</th>\n",
       "      <td>94116</td>\n",
       "      <td>8600000US94116</td>\n",
       "      <td>94116</td>\n",
       "      <td>6699045</td>\n",
       "      <td>97204</td>\n",
       "      <td>POLYGON ((-122.510297 37.764073, -122.509833 3...</td>\n",
       "    </tr>\n",
       "    <tr>\n",
       "      <th>1499</th>\n",
       "      <td>94158</td>\n",
       "      <td>8600000US94158</td>\n",
       "      <td>94158</td>\n",
       "      <td>1703879</td>\n",
       "      <td>1342698</td>\n",
       "      <td>POLYGON ((-122.397866 37.772323, -122.396381 3...</td>\n",
       "    </tr>\n",
       "    <tr>\n",
       "      <th>1893</th>\n",
       "      <td>94117</td>\n",
       "      <td>8600000US94117</td>\n",
       "      <td>94117</td>\n",
       "      <td>4373059</td>\n",
       "      <td>1625</td>\n",
       "      <td>POLYGON ((-122.477297 37.766069, -122.473124 3...</td>\n",
       "    </tr>\n",
       "    <tr>\n",
       "      <th>2312</th>\n",
       "      <td>94104</td>\n",
       "      <td>8600000US94104</td>\n",
       "      <td>94104</td>\n",
       "      <td>200857</td>\n",
       "      <td>0</td>\n",
       "      <td>POLYGON ((-122.404613 37.793565, -122.401315 3...</td>\n",
       "    </tr>\n",
       "  </tbody>\n",
       "</table>\n",
       "</div>"
      ],
      "text/plain": [
       "     ZCTA5CE10      AFFGEOID10 GEOID10  ALAND10  AWATER10  \\\n",
       "102      94102  8600000US94102   94102  1732307         0   \n",
       "1041     94116  8600000US94116   94116  6699045     97204   \n",
       "1499     94158  8600000US94158   94158  1703879   1342698   \n",
       "1893     94117  8600000US94117   94117  4373059      1625   \n",
       "2312     94104  8600000US94104   94104   200857         0   \n",
       "\n",
       "                                               geometry  \n",
       "102   POLYGON ((-122.429929 37.777909, -122.426829 3...  \n",
       "1041  POLYGON ((-122.510297 37.764073, -122.509833 3...  \n",
       "1499  POLYGON ((-122.397866 37.772323, -122.396381 3...  \n",
       "1893  POLYGON ((-122.477297 37.766069, -122.473124 3...  \n",
       "2312  POLYGON ((-122.404613 37.793565, -122.401315 3...  "
      ]
     },
     "execution_count": 69,
     "metadata": {},
     "output_type": "execute_result"
    }
   ],
   "source": [
    "# Bounds is the bounding box surrounding each individual ZCTA\n",
    "gdf_bounds = gdf.bounds\n",
    "\n",
    "# Extracting the ZCTAs fully contained in the SF bounding box \n",
    "gdf = gdf[(gdf_bounds.minx > lon_min) & (gdf_bounds.maxx < lon_max) & (gdf_bounds.miny > lat_min) & (gdf_bounds.maxy < lat_max)]\n",
    "print(len(gdf))\n",
    "gdf.head()"
   ]
  },
  {
   "cell_type": "code",
   "execution_count": 73,
   "metadata": {
    "collapsed": false
   },
   "outputs": [
    {
     "name": "stdout",
     "output_type": "stream",
     "text": [
      "27\n"
     ]
    },
    {
     "data": {
      "text/plain": [
       "['94102',\n",
       " '94103',\n",
       " '94104',\n",
       " '94105',\n",
       " '94107',\n",
       " '94108',\n",
       " '94109',\n",
       " '94110',\n",
       " '94111',\n",
       " '94112',\n",
       " '94114',\n",
       " '94115',\n",
       " '94116',\n",
       " '94117',\n",
       " '94118',\n",
       " '94121',\n",
       " '94122',\n",
       " '94123',\n",
       " '94124',\n",
       " '94127',\n",
       " '94129',\n",
       " '94130',\n",
       " '94131',\n",
       " '94132',\n",
       " '94133',\n",
       " '94134',\n",
       " '94158']"
      ]
     },
     "execution_count": 73,
     "metadata": {},
     "output_type": "execute_result"
    }
   ],
   "source": [
    "gdf_zips = list(gdf.ZCTA5CE10)\n",
    "gdf_zips = sorted(gdf_zips)\n",
    "print(len(gdf_zips))\n",
    "gdf_zips"
   ]
  },
  {
   "cell_type": "markdown",
   "metadata": {},
   "source": [
    "## Loading list of zip codes from the SF Fire data\n",
    "I manually copied these over after grabbing all unique values from the SF data"
   ]
  },
  {
   "cell_type": "code",
   "execution_count": 75,
   "metadata": {
    "collapsed": false
   },
   "outputs": [
    {
     "name": "stdout",
     "output_type": "stream",
     "text": [
      "27\n"
     ]
    },
    {
     "data": {
      "text/plain": [
       "['94102',\n",
       " '94103',\n",
       " '94104',\n",
       " '94105',\n",
       " '94107',\n",
       " '94108',\n",
       " '94109',\n",
       " '94110',\n",
       " '94111',\n",
       " '94112',\n",
       " '94114',\n",
       " '94115',\n",
       " '94116',\n",
       " '94117',\n",
       " '94118',\n",
       " '94121',\n",
       " '94122',\n",
       " '94123',\n",
       " '94124',\n",
       " '94127',\n",
       " '94129',\n",
       " '94130',\n",
       " '94131',\n",
       " '94132',\n",
       " '94133',\n",
       " '94134',\n",
       " '94158']"
      ]
     },
     "execution_count": 75,
     "metadata": {},
     "output_type": "execute_result"
    }
   ],
   "source": [
    "data_zips = [94122.0, 94102.0, 94124.0, 94110.0, 94116.0, 94118.0, 94115.0,\n",
    "             94117.0, 94103.0, 94109.0, 94121.0, 94105.0, 94134.0, 94108.0,\n",
    "             94107.0, 94112.0, 94111.0, 94132.0, 94114.0, 94123.0, 94133.0,\n",
    "             94131.0, 94127.0, 94130.0, 94104.0, 94158.0, 94129.0]\n",
    "data_zips = [str(int(x)) for x in data_zips]\n",
    "data_zips = sorted(data_zips)\n",
    "print(len(data_zips))\n",
    "data_zips"
   ]
  },
  {
   "cell_type": "markdown",
   "metadata": {},
   "source": [
    "## Comparing lists"
   ]
  },
  {
   "cell_type": "code",
   "execution_count": 76,
   "metadata": {
    "collapsed": false
   },
   "outputs": [
    {
     "data": {
      "text/plain": [
       "[]"
      ]
     },
     "execution_count": 76,
     "metadata": {},
     "output_type": "execute_result"
    }
   ],
   "source": [
    "[x for x in data_zips if x not in gdf_zips]"
   ]
  },
  {
   "cell_type": "code",
   "execution_count": 77,
   "metadata": {
    "collapsed": false
   },
   "outputs": [
    {
     "data": {
      "text/plain": [
       "[]"
      ]
     },
     "execution_count": 77,
     "metadata": {},
     "output_type": "execute_result"
    }
   ],
   "source": [
    "[x for x in gdf_zips if x not in data_zips]"
   ]
  },
  {
   "cell_type": "markdown",
   "metadata": {},
   "source": [
    "Fortunately the two lists are identical. Apparently the 94158 zip code that we were worried about is included in 2016. It is still possible that their is not a 94158 ZCTA in earlier years though, so for those years we may need to make an adjustment."
   ]
  },
  {
   "cell_type": "code",
   "execution_count": 162,
   "metadata": {
    "collapsed": false
   },
   "outputs": [],
   "source": [
    "# Saving Shape File\n",
    "# gdf.to_file('./sf_zcta.shp')"
   ]
  },
  {
   "cell_type": "markdown",
   "metadata": {},
   "source": [
    "## Using Geopandas"
   ]
  },
  {
   "cell_type": "markdown",
   "metadata": {},
   "source": [
    "Loading Saved File"
   ]
  },
  {
   "cell_type": "code",
   "execution_count": 144,
   "metadata": {
    "collapsed": false
   },
   "outputs": [
    {
     "data": {
      "text/html": [
       "<div>\n",
       "<table border=\"1\" class=\"dataframe\">\n",
       "  <thead>\n",
       "    <tr style=\"text-align: right;\">\n",
       "      <th></th>\n",
       "      <th>ZCTA5CE10</th>\n",
       "      <th>AFFGEOID10</th>\n",
       "      <th>GEOID10</th>\n",
       "      <th>ALAND10</th>\n",
       "      <th>AWATER10</th>\n",
       "      <th>geometry</th>\n",
       "    </tr>\n",
       "  </thead>\n",
       "  <tbody>\n",
       "    <tr>\n",
       "      <th>0</th>\n",
       "      <td>94102</td>\n",
       "      <td>8600000US94102</td>\n",
       "      <td>94102</td>\n",
       "      <td>1732307</td>\n",
       "      <td>0</td>\n",
       "      <td>POLYGON ((-122.429929 37.777909, -122.426829 3...</td>\n",
       "    </tr>\n",
       "    <tr>\n",
       "      <th>1</th>\n",
       "      <td>94116</td>\n",
       "      <td>8600000US94116</td>\n",
       "      <td>94116</td>\n",
       "      <td>6699045</td>\n",
       "      <td>97204</td>\n",
       "      <td>POLYGON ((-122.510297 37.764073, -122.509833 3...</td>\n",
       "    </tr>\n",
       "    <tr>\n",
       "      <th>2</th>\n",
       "      <td>94158</td>\n",
       "      <td>8600000US94158</td>\n",
       "      <td>94158</td>\n",
       "      <td>1703879</td>\n",
       "      <td>1342698</td>\n",
       "      <td>POLYGON ((-122.397866 37.772323, -122.396381 3...</td>\n",
       "    </tr>\n",
       "    <tr>\n",
       "      <th>3</th>\n",
       "      <td>94117</td>\n",
       "      <td>8600000US94117</td>\n",
       "      <td>94117</td>\n",
       "      <td>4373059</td>\n",
       "      <td>1625</td>\n",
       "      <td>POLYGON ((-122.477297 37.766069, -122.473124 3...</td>\n",
       "    </tr>\n",
       "    <tr>\n",
       "      <th>4</th>\n",
       "      <td>94104</td>\n",
       "      <td>8600000US94104</td>\n",
       "      <td>94104</td>\n",
       "      <td>200857</td>\n",
       "      <td>0</td>\n",
       "      <td>POLYGON ((-122.404613 37.793565, -122.401315 3...</td>\n",
       "    </tr>\n",
       "    <tr>\n",
       "      <th>5</th>\n",
       "      <td>94129</td>\n",
       "      <td>8600000US94129</td>\n",
       "      <td>94129</td>\n",
       "      <td>5963991</td>\n",
       "      <td>14697</td>\n",
       "      <td>POLYGON ((-122.485783 37.790629, -122.480296 3...</td>\n",
       "    </tr>\n",
       "    <tr>\n",
       "      <th>6</th>\n",
       "      <td>94110</td>\n",
       "      <td>8600000US94110</td>\n",
       "      <td>94110</td>\n",
       "      <td>6019920</td>\n",
       "      <td>12207</td>\n",
       "      <td>POLYGON ((-122.426722 37.736372, -122.425082 3...</td>\n",
       "    </tr>\n",
       "    <tr>\n",
       "      <th>7</th>\n",
       "      <td>94132</td>\n",
       "      <td>8600000US94132</td>\n",
       "      <td>94132</td>\n",
       "      <td>8054465</td>\n",
       "      <td>1299131</td>\n",
       "      <td>POLYGON ((-122.508087717965 37.735197790538, -...</td>\n",
       "    </tr>\n",
       "    <tr>\n",
       "      <th>8</th>\n",
       "      <td>94108</td>\n",
       "      <td>8600000US94108</td>\n",
       "      <td>94108</td>\n",
       "      <td>698155</td>\n",
       "      <td>0</td>\n",
       "      <td>POLYGON ((-122.414826 37.794988, -122.404412 3...</td>\n",
       "    </tr>\n",
       "    <tr>\n",
       "      <th>9</th>\n",
       "      <td>94111</td>\n",
       "      <td>8600000US94111</td>\n",
       "      <td>94111</td>\n",
       "      <td>891133</td>\n",
       "      <td>494314</td>\n",
       "      <td>POLYGON ((-122.405922 37.806462, -122.403494 3...</td>\n",
       "    </tr>\n",
       "    <tr>\n",
       "      <th>10</th>\n",
       "      <td>94127</td>\n",
       "      <td>8600000US94127</td>\n",
       "      <td>94127</td>\n",
       "      <td>4585741</td>\n",
       "      <td>9359</td>\n",
       "      <td>POLYGON ((-122.471569 37.734707, -122.470612 3...</td>\n",
       "    </tr>\n",
       "    <tr>\n",
       "      <th>11</th>\n",
       "      <td>94103</td>\n",
       "      <td>8600000US94103</td>\n",
       "      <td>94103</td>\n",
       "      <td>3518316</td>\n",
       "      <td>0</td>\n",
       "      <td>POLYGON ((-122.426418 37.765784, -122.426402 3...</td>\n",
       "    </tr>\n",
       "    <tr>\n",
       "      <th>12</th>\n",
       "      <td>94123</td>\n",
       "      <td>8600000US94123</td>\n",
       "      <td>94123</td>\n",
       "      <td>2651010</td>\n",
       "      <td>218721</td>\n",
       "      <td>(POLYGON ((-122.450323 37.803584, -122.44829 3...</td>\n",
       "    </tr>\n",
       "    <tr>\n",
       "      <th>13</th>\n",
       "      <td>94121</td>\n",
       "      <td>8600000US94121</td>\n",
       "      <td>94121</td>\n",
       "      <td>7980032</td>\n",
       "      <td>61283</td>\n",
       "      <td>POLYGON ((-122.514483 37.780829, -122.50531 37...</td>\n",
       "    </tr>\n",
       "    <tr>\n",
       "      <th>14</th>\n",
       "      <td>94130</td>\n",
       "      <td>8600000US94130</td>\n",
       "      <td>94130</td>\n",
       "      <td>2385697</td>\n",
       "      <td>0</td>\n",
       "      <td>POLYGON ((-122.377679 37.83046, -122.373453 37...</td>\n",
       "    </tr>\n",
       "    <tr>\n",
       "      <th>15</th>\n",
       "      <td>94118</td>\n",
       "      <td>8600000US94118</td>\n",
       "      <td>94118</td>\n",
       "      <td>5047737</td>\n",
       "      <td>59174</td>\n",
       "      <td>POLYGON ((-122.478646 37.77223, -122.472517 37...</td>\n",
       "    </tr>\n",
       "    <tr>\n",
       "      <th>16</th>\n",
       "      <td>94133</td>\n",
       "      <td>8600000US94133</td>\n",
       "      <td>94133</td>\n",
       "      <td>1955595</td>\n",
       "      <td>646917</td>\n",
       "      <td>POLYGON ((-122.419224 37.808453, -122.42002 37...</td>\n",
       "    </tr>\n",
       "    <tr>\n",
       "      <th>17</th>\n",
       "      <td>94114</td>\n",
       "      <td>8600000US94114</td>\n",
       "      <td>94114</td>\n",
       "      <td>3692444</td>\n",
       "      <td>0</td>\n",
       "      <td>POLYGON ((-122.454002 37.758785, -122.451817 3...</td>\n",
       "    </tr>\n",
       "    <tr>\n",
       "      <th>18</th>\n",
       "      <td>94115</td>\n",
       "      <td>8600000US94115</td>\n",
       "      <td>94115</td>\n",
       "      <td>2889804</td>\n",
       "      <td>0</td>\n",
       "      <td>POLYGON ((-122.4463 37.791879, -122.446446 37....</td>\n",
       "    </tr>\n",
       "    <tr>\n",
       "      <th>19</th>\n",
       "      <td>94134</td>\n",
       "      <td>8600000US94134</td>\n",
       "      <td>94134</td>\n",
       "      <td>6218001</td>\n",
       "      <td>90877</td>\n",
       "      <td>POLYGON ((-122.429927 37.711574, -122.427454 3...</td>\n",
       "    </tr>\n",
       "    <tr>\n",
       "      <th>20</th>\n",
       "      <td>94112</td>\n",
       "      <td>8600000US94112</td>\n",
       "      <td>94112</td>\n",
       "      <td>8712738</td>\n",
       "      <td>0</td>\n",
       "      <td>POLYGON ((-122.465994 37.710154, -122.462556 3...</td>\n",
       "    </tr>\n",
       "    <tr>\n",
       "      <th>21</th>\n",
       "      <td>94124</td>\n",
       "      <td>8600000US94124</td>\n",
       "      <td>94124</td>\n",
       "      <td>12759665</td>\n",
       "      <td>2806581</td>\n",
       "      <td>POLYGON ((-122.407752 37.740585, -122.404819 3...</td>\n",
       "    </tr>\n",
       "    <tr>\n",
       "      <th>22</th>\n",
       "      <td>94105</td>\n",
       "      <td>8600000US94105</td>\n",
       "      <td>94105</td>\n",
       "      <td>952915</td>\n",
       "      <td>208000</td>\n",
       "      <td>POLYGON ((-122.403456 37.787776, -122.401939 3...</td>\n",
       "    </tr>\n",
       "    <tr>\n",
       "      <th>23</th>\n",
       "      <td>94107</td>\n",
       "      <td>8600000US94107</td>\n",
       "      <td>94107</td>\n",
       "      <td>4643461</td>\n",
       "      <td>236640</td>\n",
       "      <td>POLYGON ((-122.40509 37.76462799999999, -122.4...</td>\n",
       "    </tr>\n",
       "    <tr>\n",
       "      <th>24</th>\n",
       "      <td>94109</td>\n",
       "      <td>8600000US94109</td>\n",
       "      <td>94109</td>\n",
       "      <td>3077741</td>\n",
       "      <td>295388</td>\n",
       "      <td>POLYGON ((-122.432565 37.80848, -122.432079 37...</td>\n",
       "    </tr>\n",
       "    <tr>\n",
       "      <th>25</th>\n",
       "      <td>94131</td>\n",
       "      <td>8600000US94131</td>\n",
       "      <td>94131</td>\n",
       "      <td>5379912</td>\n",
       "      <td>50540</td>\n",
       "      <td>POLYGON ((-122.463266 37.758708, -122.459991 3...</td>\n",
       "    </tr>\n",
       "    <tr>\n",
       "      <th>26</th>\n",
       "      <td>94122</td>\n",
       "      <td>8600000US94122</td>\n",
       "      <td>94122</td>\n",
       "      <td>6124846</td>\n",
       "      <td>0</td>\n",
       "      <td>POLYGON ((-122.50987 37.76409, -122.508335 37....</td>\n",
       "    </tr>\n",
       "  </tbody>\n",
       "</table>\n",
       "</div>"
      ],
      "text/plain": [
       "   ZCTA5CE10      AFFGEOID10 GEOID10   ALAND10  AWATER10  \\\n",
       "0      94102  8600000US94102   94102   1732307         0   \n",
       "1      94116  8600000US94116   94116   6699045     97204   \n",
       "2      94158  8600000US94158   94158   1703879   1342698   \n",
       "3      94117  8600000US94117   94117   4373059      1625   \n",
       "4      94104  8600000US94104   94104    200857         0   \n",
       "5      94129  8600000US94129   94129   5963991     14697   \n",
       "6      94110  8600000US94110   94110   6019920     12207   \n",
       "7      94132  8600000US94132   94132   8054465   1299131   \n",
       "8      94108  8600000US94108   94108    698155         0   \n",
       "9      94111  8600000US94111   94111    891133    494314   \n",
       "10     94127  8600000US94127   94127   4585741      9359   \n",
       "11     94103  8600000US94103   94103   3518316         0   \n",
       "12     94123  8600000US94123   94123   2651010    218721   \n",
       "13     94121  8600000US94121   94121   7980032     61283   \n",
       "14     94130  8600000US94130   94130   2385697         0   \n",
       "15     94118  8600000US94118   94118   5047737     59174   \n",
       "16     94133  8600000US94133   94133   1955595    646917   \n",
       "17     94114  8600000US94114   94114   3692444         0   \n",
       "18     94115  8600000US94115   94115   2889804         0   \n",
       "19     94134  8600000US94134   94134   6218001     90877   \n",
       "20     94112  8600000US94112   94112   8712738         0   \n",
       "21     94124  8600000US94124   94124  12759665   2806581   \n",
       "22     94105  8600000US94105   94105    952915    208000   \n",
       "23     94107  8600000US94107   94107   4643461    236640   \n",
       "24     94109  8600000US94109   94109   3077741    295388   \n",
       "25     94131  8600000US94131   94131   5379912     50540   \n",
       "26     94122  8600000US94122   94122   6124846         0   \n",
       "\n",
       "                                             geometry  \n",
       "0   POLYGON ((-122.429929 37.777909, -122.426829 3...  \n",
       "1   POLYGON ((-122.510297 37.764073, -122.509833 3...  \n",
       "2   POLYGON ((-122.397866 37.772323, -122.396381 3...  \n",
       "3   POLYGON ((-122.477297 37.766069, -122.473124 3...  \n",
       "4   POLYGON ((-122.404613 37.793565, -122.401315 3...  \n",
       "5   POLYGON ((-122.485783 37.790629, -122.480296 3...  \n",
       "6   POLYGON ((-122.426722 37.736372, -122.425082 3...  \n",
       "7   POLYGON ((-122.508087717965 37.735197790538, -...  \n",
       "8   POLYGON ((-122.414826 37.794988, -122.404412 3...  \n",
       "9   POLYGON ((-122.405922 37.806462, -122.403494 3...  \n",
       "10  POLYGON ((-122.471569 37.734707, -122.470612 3...  \n",
       "11  POLYGON ((-122.426418 37.765784, -122.426402 3...  \n",
       "12  (POLYGON ((-122.450323 37.803584, -122.44829 3...  \n",
       "13  POLYGON ((-122.514483 37.780829, -122.50531 37...  \n",
       "14  POLYGON ((-122.377679 37.83046, -122.373453 37...  \n",
       "15  POLYGON ((-122.478646 37.77223, -122.472517 37...  \n",
       "16  POLYGON ((-122.419224 37.808453, -122.42002 37...  \n",
       "17  POLYGON ((-122.454002 37.758785, -122.451817 3...  \n",
       "18  POLYGON ((-122.4463 37.791879, -122.446446 37....  \n",
       "19  POLYGON ((-122.429927 37.711574, -122.427454 3...  \n",
       "20  POLYGON ((-122.465994 37.710154, -122.462556 3...  \n",
       "21  POLYGON ((-122.407752 37.740585, -122.404819 3...  \n",
       "22  POLYGON ((-122.403456 37.787776, -122.401939 3...  \n",
       "23  POLYGON ((-122.40509 37.76462799999999, -122.4...  \n",
       "24  POLYGON ((-122.432565 37.80848, -122.432079 37...  \n",
       "25  POLYGON ((-122.463266 37.758708, -122.459991 3...  \n",
       "26  POLYGON ((-122.50987 37.76409, -122.508335 37....  "
      ]
     },
     "execution_count": 144,
     "metadata": {},
     "output_type": "execute_result"
    }
   ],
   "source": [
    "gdf = geopandas.read_file('./sf_zcta/sf_zcta.shp')\n",
    "gdf"
   ]
  },
  {
   "cell_type": "code",
   "execution_count": 126,
   "metadata": {
    "collapsed": false
   },
   "outputs": [],
   "source": [
    "# creating a point\n",
    "# Note that the Point object appears to want arguments as x,y, which corresponds to lon,lat - not lat,lon like you would expect.\n",
    "point1 = geopandas.geoseries.Point(-122.502186, 37.754033)\n",
    "# extracting the polygon for zip code 94122\n",
    "poly1 = gdf.geometry[29952]"
   ]
  },
  {
   "cell_type": "code",
   "execution_count": 113,
   "metadata": {
    "collapsed": false
   },
   "outputs": [
    {
     "data": {
      "image/svg+xml": [
       "<svg xmlns=\"http://www.w3.org/2000/svg\" xmlns:xlink=\"http://www.w3.org/1999/xlink\" width=\"100.0\" height=\"100.0\" viewBox=\"-122.51196336000001 37.74887464 0.05652072000000885 0.019378720000005956\" preserveAspectRatio=\"xMinYMin meet\"><g transform=\"matrix(1,0,0,-1,0,75.517128)\"><path fill-rule=\"evenodd\" fill=\"#66cc99\" stroke=\"#555555\" stroke-width=\"0.001130414400000177\" opacity=\"0.6\" d=\"M -122.50987,37.764089999999996 L -122.508335,37.764106999999996 L -122.477379,37.765482 L -122.458405,37.76616 L -122.45779,37.766014999999996 L -122.457536,37.763566 L -122.460843,37.762628 L -122.459991,37.759349 L -122.463266,37.758708 L -122.46336099999999,37.753039 L -122.46909600000001,37.752924 L -122.47001900000001,37.754692 L -122.471017,37.754796999999996 L -122.470908,37.752615999999996 L -122.50818699999999,37.750968 L -122.509833,37.763968999999996 L -122.50987,37.764089999999996 z\" /></g></svg>"
      ],
      "text/plain": [
       "<shapely.geometry.polygon.Polygon at 0x194f7d362b0>"
      ]
     },
     "execution_count": 113,
     "metadata": {},
     "output_type": "execute_result"
    }
   ],
   "source": [
    "# Showing a polygon - that was easy!\n",
    "poly1"
   ]
  },
  {
   "cell_type": "code",
   "execution_count": 155,
   "metadata": {
    "collapsed": false
   },
   "outputs": [
    {
     "name": "stdout",
     "output_type": "stream",
     "text": [
      "True\n",
      "True\n"
     ]
    }
   ],
   "source": [
    "# Testing for an intersection - this will be useful for determining which ZCTA a lat/lon coordinate is in\n",
    "print(poly1.contains(point1))\n",
    "print(point1.within(poly1))"
   ]
  },
  {
   "cell_type": "code",
   "execution_count": 130,
   "metadata": {
    "collapsed": false
   },
   "outputs": [
    {
     "data": {
      "text/plain": [
       "102      False\n",
       "1041     False\n",
       "1499     False\n",
       "1893     False\n",
       "2312     False\n",
       "4711     False\n",
       "7435     False\n",
       "7576     False\n",
       "7927     False\n",
       "7928     False\n",
       "8102     False\n",
       "9355     False\n",
       "9898     False\n",
       "10465    False\n",
       "13597    False\n",
       "16800    False\n",
       "25776    False\n",
       "29169    False\n",
       "29170    False\n",
       "29255    False\n",
       "29282    False\n",
       "29423    False\n",
       "29455    False\n",
       "29456    False\n",
       "29457    False\n",
       "29464    False\n",
       "29952     True\n",
       "dtype: bool"
      ]
     },
     "execution_count": 130,
     "metadata": {},
     "output_type": "execute_result"
    }
   ],
   "source": [
    "# Testing all regions\n",
    "gdf.geometry.contains(point1)"
   ]
  },
  {
   "cell_type": "code",
   "execution_count": 143,
   "metadata": {
    "collapsed": false
   },
   "outputs": [
    {
     "name": "stdout",
     "output_type": "stream",
     "text": [
      "94122\n"
     ]
    }
   ],
   "source": [
    "# Getting ZCTA that contains the point\n",
    "point_zip = gdf.ZCTA5CE10[gdf.geometry.contains(point1)].values[0]\n",
    "print(point_zip)"
   ]
  },
  {
   "cell_type": "code",
   "execution_count": 146,
   "metadata": {
    "collapsed": false
   },
   "outputs": [
    {
     "name": "stdout",
     "output_type": "stream",
     "text": [
      "POINT (-122.4851476849164 37.75878649791513)\n",
      "0      POINT (-122.4192877923651 37.7796913704253)\n",
      "1      POINT (-122.4861669394649 37.7446069917895)\n",
      "2     POINT (-122.3875509671313 37.76967230769329)\n",
      "3       POINT (-122.4482273467271 37.769749367556)\n",
      "4     POINT (-122.4020734762314 37.79145790249981)\n",
      "5     POINT (-122.4668400512062 37.79751989324696)\n",
      "6        POINT (-122.4153763268 37.74995708242039)\n",
      "7      POINT (-122.484891415384 37.72215076805941)\n",
      "8     POINT (-122.4086384226458 37.79203093691396)\n",
      "9     POINT (-122.3983586870879 37.79893302468089)\n",
      "10    POINT (-122.4594176782446 37.73568366260329)\n",
      "11    POINT (-122.4111439180409 37.77323094936967)\n",
      "12    POINT (-122.4382572128714 37.80046762466299)\n",
      "13    POINT (-122.4944872210406 37.77650670409459)\n",
      "14    POINT (-122.3695336222321 37.82042572157066)\n",
      "15    POINT (-122.4624563322676 37.78010371844077)\n",
      "16      POINT (-122.41074305609 37.80380946162059)\n",
      "17    POINT (-122.4354155822417 37.75804305971192)\n",
      "18    POINT (-122.4372127612351 37.78598997542272)\n",
      "19    POINT (-122.4118321099412 37.71936889825756)\n",
      "20    POINT (-122.4429893047317 37.72031733932713)\n",
      "21    POINT (-122.3846347443732 37.73083411744073)\n",
      "22    POINT (-122.3938551877905 37.78974535653058)\n",
      "23    POINT (-122.3946332094771 37.76647760083945)\n",
      "24     POINT (-122.422212061527 37.79521553643907)\n",
      "25    POINT (-122.4428876838592 37.74547012797088)\n",
      "26    POINT (-122.4851476849164 37.75878649791513)\n",
      "dtype: object\n"
     ]
    }
   ],
   "source": [
    "# Finding the centroids of polygons\n",
    "print(poly1.centroid)\n",
    "centroids = gdf.geometry.centroid\n",
    "print(centroids)"
   ]
  },
  {
   "cell_type": "code",
   "execution_count": 147,
   "metadata": {
    "collapsed": false
   },
   "outputs": [
    {
     "data": {
      "text/plain": [
       "0     0.086778\n",
       "1     0.018587\n",
       "2     0.115697\n",
       "3     0.056201\n",
       "4     0.106879\n",
       "5     0.056040\n",
       "6     0.086905\n",
       "7     0.036271\n",
       "8     0.100970\n",
       "9     0.113120\n",
       "10    0.046538\n",
       "11    0.093044\n",
       "12    0.079013\n",
       "13    0.023756\n",
       "14    0.148340\n",
       "15    0.047520\n",
       "16    0.104113\n",
       "17    0.066891\n",
       "18    0.072407\n",
       "19    0.096775\n",
       "20    0.068125\n",
       "21    0.119819\n",
       "22    0.114065\n",
       "23    0.108270\n",
       "24    0.089955\n",
       "25    0.059913\n",
       "26    0.017689\n",
       "dtype: float64"
      ]
     },
     "execution_count": 147,
     "metadata": {},
     "output_type": "execute_result"
    }
   ],
   "source": [
    "# Finding distances between points\n",
    "# In this case, the distance from each centroid to point 1\n",
    "centroids.distance(point1)"
   ]
  },
  {
   "cell_type": "code",
   "execution_count": 163,
   "metadata": {
    "collapsed": false
   },
   "outputs": [
    {
     "data": {
      "text/plain": [
       "<matplotlib.axes._subplots.AxesSubplot at 0x194d6f2f7f0>"
      ]
     },
     "execution_count": 163,
     "metadata": {},
     "output_type": "execute_result"
    },
    {
     "data": {
      "image/png": "[encoded data removed]",
      "text/plain": [
       "<matplotlib.figure.Figure at 0x194d8319898>"
      ]
     },
     "metadata": {},
     "output_type": "display_data"
    }
   ],
   "source": [
    "# A quick plot\n",
    "# See here for cooler examples: https://gist.github.com/jorisvandenbossche/7b30ed43366a85af8626\n",
    "gdf.plot()"
   ]
  }
 ],
 "metadata": {
  "kernelspec": {
   "display_name": "Python [default]",
   "language": "python",
   "name": "python3"
  },
  "language_info": {
   "codemirror_mode": {
    "name": "ipython",
    "version": 3
   },
   "file_extension": ".py",
   "mimetype": "text/x-python",
   "name": "python",
   "nbconvert_exporter": "python",
   "pygments_lexer": "ipython3",
   "version": "3.5.2"
  }
 },
 "nbformat": 4,
 "nbformat_minor": 2
}
