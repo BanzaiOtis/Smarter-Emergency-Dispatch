{
 "cells": [
  {
   "cell_type": "code",
   "execution_count": 1,
   "metadata": {
    "collapsed": true
   },
   "outputs": [],
   "source": [
    "import pandas as pd\n",
    "from os import listdir"
   ]
  },
  {
   "cell_type": "code",
   "execution_count": 192,
   "metadata": {
    "collapsed": true
   },
   "outputs": [],
   "source": [
    "dirs = [\"sf_pop_2011/\", \"sf_pop_2012/\", \"sf_pop_2013/\", \"sf_pop_2014/\", \"sf_pop_2015/\"]\n",
    "# dirs = [\"sf_pop_2011/\", \"sf_pop_2012/\"]\n",
    "data_files = []\n",
    "suffix = \".csv\"\n",
    "bad_word = \"metadata\"\n",
    "\n",
    "# Iterate through directories to assemble list of paths to files we want to parse\n",
    "for d in dirs:\n",
    "    files = [f for f in listdir(d) if f.endswith(suffix) and bad_word not in f]\n",
    "    for f in files:\n",
    "        data_files.append(d + f)"
   ]
  },
  {
   "cell_type": "code",
   "execution_count": 193,
   "metadata": {
    "collapsed": false
   },
   "outputs": [
    {
     "name": "stdout",
     "output_type": "stream",
     "text": [
      "['sf_pop_2011/ACS_11_5YR_DP05_with_ann.csv', 'sf_pop_2012/ACS_12_5YR_DP05_with_ann.csv', 'sf_pop_2013/ACS_13_5YR_DP05_with_ann.csv', 'sf_pop_2014/ACS_14_5YR_DP05_with_ann.csv', 'sf_pop_2015/ACS_15_5YR_DP05_with_ann.csv']\n"
     ]
    }
   ],
   "source": [
    "print(data_files)    "
   ]
  },
  {
   "cell_type": "code",
   "execution_count": 198,
   "metadata": {
    "collapsed": false
   },
   "outputs": [
    {
     "name": "stdout",
     "output_type": "stream",
     "text": [
      "Index([     0,      1,      2,      3,      4,      5,      6,      7,      8,\n",
      "            9,\n",
      "       ...\n",
      "          318,    319,    320,    321,    322,    323,    324,    325,    326,\n",
      "       'Year'],\n",
      "      dtype='object', length=328)\n"
     ]
    }
   ],
   "source": [
    "df = pd.DataFrame()\n",
    "\n",
    "for d in data_files:\n",
    "    # parse year from filename\n",
    "    end = d.find(\"/ACS\")\n",
    "    start = end - 4\n",
    "    year = d[start:end]\n",
    "#     print(year)\n",
    "    \n",
    "    # read csv & get correct columns\n",
    "    new_df = pd.read_csv(d, header=None, skiprows=[0, 1], usecols=[i for i in range(327)])\n",
    "    new_df[\"Year\"] = year\n",
    "\n",
    "    if year == '2015':\n",
    "        cols = new_df.columns\n",
    "        print(cols)\n",
    "        \n",
    "\n",
    "    # Conditional check for proper concatenation\n",
    "    if df.empty:\n",
    "        df = new_df\n",
    "    else:\n",
    "        df = pd.concat([df, new_df], axis=0, ignore_index=True)\n",
    "\n",
    "# df.columns = cols        \n"
   ]
  },
  {
   "cell_type": "code",
   "execution_count": 197,
   "metadata": {
    "collapsed": false
   },
   "outputs": [
    {
     "data": {
      "text/html": [
       "<div>\n",
       "<table border=\"1\" class=\"dataframe\">\n",
       "  <thead>\n",
       "    <tr style=\"text-align: right;\">\n",
       "      <th></th>\n",
       "      <th>0</th>\n",
       "      <th>1</th>\n",
       "      <th>2</th>\n",
       "      <th>3</th>\n",
       "      <th>4</th>\n",
       "      <th>5</th>\n",
       "      <th>6</th>\n",
       "      <th>7</th>\n",
       "      <th>8</th>\n",
       "      <th>9</th>\n",
       "      <th>...</th>\n",
       "      <th>318</th>\n",
       "      <th>319</th>\n",
       "      <th>320</th>\n",
       "      <th>321</th>\n",
       "      <th>322</th>\n",
       "      <th>323</th>\n",
       "      <th>324</th>\n",
       "      <th>325</th>\n",
       "      <th>326</th>\n",
       "      <th>Year</th>\n",
       "    </tr>\n",
       "  </thead>\n",
       "  <tbody>\n",
       "    <tr>\n",
       "      <th>0</th>\n",
       "      <td>8600000US89010</td>\n",
       "      <td>89010</td>\n",
       "      <td>ZCTA5 89010</td>\n",
       "      <td>313</td>\n",
       "      <td>92</td>\n",
       "      <td>313</td>\n",
       "      <td>(X)</td>\n",
       "      <td>174</td>\n",
       "      <td>57</td>\n",
       "      <td>55.6</td>\n",
       "      <td>...</td>\n",
       "      <td>9.9</td>\n",
       "      <td>13</td>\n",
       "      <td>17</td>\n",
       "      <td>4.2</td>\n",
       "      <td>5.8</td>\n",
       "      <td>231</td>\n",
       "      <td>47</td>\n",
       "      <td>(X)</td>\n",
       "      <td>(X)</td>\n",
       "      <td>2011</td>\n",
       "    </tr>\n",
       "    <tr>\n",
       "      <th>1</th>\n",
       "      <td>8600000US89019</td>\n",
       "      <td>89019</td>\n",
       "      <td>ZCTA5 89019</td>\n",
       "      <td>2172</td>\n",
       "      <td>731</td>\n",
       "      <td>2172</td>\n",
       "      <td>(X)</td>\n",
       "      <td>1324</td>\n",
       "      <td>455</td>\n",
       "      <td>61.0</td>\n",
       "      <td>...</td>\n",
       "      <td>1.5</td>\n",
       "      <td>78</td>\n",
       "      <td>56</td>\n",
       "      <td>3.6</td>\n",
       "      <td>3.2</td>\n",
       "      <td>1171</td>\n",
       "      <td>256</td>\n",
       "      <td>(X)</td>\n",
       "      <td>(X)</td>\n",
       "      <td>2011</td>\n",
       "    </tr>\n",
       "    <tr>\n",
       "      <th>2</th>\n",
       "      <td>8600000US89060</td>\n",
       "      <td>89060</td>\n",
       "      <td>ZCTA5 89060</td>\n",
       "      <td>10691</td>\n",
       "      <td>1079</td>\n",
       "      <td>10691</td>\n",
       "      <td>(X)</td>\n",
       "      <td>5342</td>\n",
       "      <td>622</td>\n",
       "      <td>50.0</td>\n",
       "      <td>...</td>\n",
       "      <td>0.3</td>\n",
       "      <td>155</td>\n",
       "      <td>126</td>\n",
       "      <td>1.4</td>\n",
       "      <td>1.2</td>\n",
       "      <td>5252</td>\n",
       "      <td>362</td>\n",
       "      <td>(X)</td>\n",
       "      <td>(X)</td>\n",
       "      <td>2011</td>\n",
       "    </tr>\n",
       "    <tr>\n",
       "      <th>3</th>\n",
       "      <td>8600000US89061</td>\n",
       "      <td>89061</td>\n",
       "      <td>ZCTA5 89061</td>\n",
       "      <td>4658</td>\n",
       "      <td>708</td>\n",
       "      <td>4658</td>\n",
       "      <td>(X)</td>\n",
       "      <td>2490</td>\n",
       "      <td>436</td>\n",
       "      <td>53.5</td>\n",
       "      <td>...</td>\n",
       "      <td>0.7</td>\n",
       "      <td>48</td>\n",
       "      <td>46</td>\n",
       "      <td>1.0</td>\n",
       "      <td>1.0</td>\n",
       "      <td>2250</td>\n",
       "      <td>221</td>\n",
       "      <td>(X)</td>\n",
       "      <td>(X)</td>\n",
       "      <td>2011</td>\n",
       "    </tr>\n",
       "    <tr>\n",
       "      <th>4</th>\n",
       "      <td>8600000US89439</td>\n",
       "      <td>89439</td>\n",
       "      <td>ZCTA5 89439</td>\n",
       "      <td>1457</td>\n",
       "      <td>233</td>\n",
       "      <td>1457</td>\n",
       "      <td>(X)</td>\n",
       "      <td>797</td>\n",
       "      <td>131</td>\n",
       "      <td>54.7</td>\n",
       "      <td>...</td>\n",
       "      <td>2.2</td>\n",
       "      <td>0</td>\n",
       "      <td>89</td>\n",
       "      <td>0.0</td>\n",
       "      <td>2.2</td>\n",
       "      <td>762</td>\n",
       "      <td>107</td>\n",
       "      <td>(X)</td>\n",
       "      <td>(X)</td>\n",
       "      <td>2011</td>\n",
       "    </tr>\n",
       "  </tbody>\n",
       "</table>\n",
       "<p>5 rows × 328 columns</p>\n",
       "</div>"
      ],
      "text/plain": [
       "                0      1            2      3     4      5    6     7    8  \\\n",
       "0  8600000US89010  89010  ZCTA5 89010    313    92    313  (X)   174   57   \n",
       "1  8600000US89019  89019  ZCTA5 89019   2172   731   2172  (X)  1324  455   \n",
       "2  8600000US89060  89060  ZCTA5 89060  10691  1079  10691  (X)  5342  622   \n",
       "3  8600000US89061  89061  ZCTA5 89061   4658   708   4658  (X)  2490  436   \n",
       "4  8600000US89439  89439  ZCTA5 89439   1457   233   1457  (X)   797  131   \n",
       "\n",
       "      9  ...   318  319  320  321  322   323  324  325  326  Year  \n",
       "0  55.6  ...   9.9   13   17  4.2  5.8   231   47  (X)  (X)  2011  \n",
       "1  61.0  ...   1.5   78   56  3.6  3.2  1171  256  (X)  (X)  2011  \n",
       "2  50.0  ...   0.3  155  126  1.4  1.2  5252  362  (X)  (X)  2011  \n",
       "3  53.5  ...   0.7   48   46  1.0  1.0  2250  221  (X)  (X)  2011  \n",
       "4  54.7  ...   2.2    0   89  0.0  2.2   762  107  (X)  (X)  2011  \n",
       "\n",
       "[5 rows x 328 columns]"
      ]
     },
     "execution_count": 197,
     "metadata": {},
     "output_type": "execute_result"
    }
   ],
   "source": [
    "df.head()"
   ]
  },
  {
   "cell_type": "code",
   "execution_count": 187,
   "metadata": {
    "collapsed": false
   },
   "outputs": [
    {
     "name": "stdout",
     "output_type": "stream",
     "text": [
      "8846\n"
     ]
    }
   ],
   "source": [
    "print(len(df))"
   ]
  },
  {
   "cell_type": "code",
   "execution_count": 162,
   "metadata": {
    "collapsed": false
   },
   "outputs": [
    {
     "data": {
      "text/plain": [
       "array(['2011', '2012'], dtype=object)"
      ]
     },
     "execution_count": 162,
     "metadata": {},
     "output_type": "execute_result"
    }
   ],
   "source": [
    "df.Year.unique()"
   ]
  },
  {
   "cell_type": "code",
   "execution_count": null,
   "metadata": {
    "collapsed": true
   },
   "outputs": [],
   "source": []
  }
 ],
 "metadata": {
  "kernelspec": {
   "display_name": "Python [conda root]",
   "language": "python",
   "name": "conda-root-py"
  },
  "language_info": {
   "codemirror_mode": {
    "name": "ipython",
    "version": 3
   },
   "file_extension": ".py",
   "mimetype": "text/x-python",
   "name": "python",
   "nbconvert_exporter": "python",
   "pygments_lexer": "ipython3",
   "version": "3.5.2"
  }
 },
 "nbformat": 4,
 "nbformat_minor": 1
}
