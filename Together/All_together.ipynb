{
 "cells": [
  {
   "cell_type": "code",
   "execution_count": 45,
   "metadata": {
    "collapsed": true
   },
   "outputs": [],
   "source": [
    "import pandas as pd\n",
    "import geopandas\n",
    "import numpy as np\n",
    "from geopandas.tools import sjoin\n",
    "import folium\n",
    "import googlemaps\n",
    "from folium.plugins import MarkerCluster\n",
    "from branca.colormap import linear\n",
    "\n",
    "from ipywidgets import widgets"
   ]
  },
  {
   "cell_type": "code",
   "execution_count": 5,
   "metadata": {
    "collapsed": false
   },
   "outputs": [],
   "source": [
    "def get_current_call(file):\n",
    "    calls = pd.read_csv(file,parse_dates=[3]) \n",
    "    current_call = calls.loc[calls.TIME == max(calls.TIME)]\n",
    "    return current_call.values[0]\n",
    "\n",
    "def get_api_key(filepath):\n",
    "    with open(filepath) as f:\n",
    "        content = f.readlines()\n",
    "    # remove whitespace characters at the end of each line\n",
    "    content = [x.strip() for x in content]\n",
    "    key = content[0]\n",
    "    return key\n",
    "\n",
    "def api_call(amb_coord,call_coord,dep_time,key,available_amb):\n",
    "    gmaps = googlemaps.Client(key=key)\n",
    "    result = gmaps.distance_matrix(amb_coord, call_coord, mode=\"driving\", units=\"imperial\", departure_time=dep_time)\n",
    "    output_mat = pd.DataFrame()\n",
    "    for idx, row in enumerate(result['rows']):\n",
    "        row_mat = pd.DataFrame()\n",
    "        mat = row['elements'][0]\n",
    "        for key, val in mat.items():\n",
    "            if key != 'status':\n",
    "                df = pd.DataFrame.from_dict(val, orient='index')\n",
    "                df = df.transpose()\n",
    "                df.columns = [key + \"_\" + c for c in df.columns]\n",
    "                if row_mat.empty:\n",
    "                    row_mat = df\n",
    "                else:\n",
    "                    row_mat = pd.concat([row_mat, df], axis=1)\n",
    "        if output_mat.empty:\n",
    "            output_mat = row_mat\n",
    "        else:\n",
    "            output_mat = output_mat.append(row_mat)\n",
    "    output_mat.index = [amb for amb in available_amb.AMB_ID]\n",
    "    \n",
    "    chosen = output_mat.loc[output_mat.duration_in_traffic_value == min(output_mat.duration_in_traffic_value)].index[0]\n",
    "    return chosen"
   ]
  },
  {
   "cell_type": "code",
   "execution_count": 6,
   "metadata": {
    "collapsed": false
   },
   "outputs": [],
   "source": [
    "def add_ambmarker(smap,lat,long,amb_name):\n",
    "    folium.Marker([lat, long], icon=folium.Icon(icon='plus',color='blue'),\n",
    "                  popup=\"Amb #:\" + amb_name\n",
    "                 ).add_to(smap)\n",
    "    \n",
    "def dispatch_ambmarker(smap,lat,long,amb_name):\n",
    "    folium.Marker([lat, long], icon=folium.Icon(icon='plus',color='gray'),\n",
    "                  popup=\"Amb #:\" + amb_name\n",
    "                 ).add_to(smap)\n",
    "    \n",
    "def add_emsmarker(smap,lat,long,event_id):\n",
    "    folium.RegularPolygonMarker([lat, long], popup=\"EMS #:\" + event_id,\n",
    "                                fill_color='red',number_of_sides=5,radius=10).add_to(smap)\n"
   ]
  },
  {
   "cell_type": "code",
   "execution_count": 21,
   "metadata": {
    "collapsed": false
   },
   "outputs": [],
   "source": [
    "def create_map(gfile,ambfile,current_call):  \n",
    "    #geopandas\n",
    "    gdf = geopandas.read_file(gfile)\n",
    "    gdf[\"prob\"] = np.random.random_sample(len(gdf))\n",
    "    gdf1 = gdf\n",
    "    gdf = gdf.set_index('ZCTA5CE10')['prob']\n",
    "    gdf1 = gdf1.set_index('ZCTA5CE10')\n",
    "    gdf1.crs={'init': 'epsg:4326'}\n",
    "    \n",
    "    #color scale\n",
    "    colormap = linear.OrRd.scale(0.0,1.0)\n",
    "    \n",
    "    #foliium\n",
    "    sfmap = folium.Map([37.7556, -122.4399], zoom_start = 12)\n",
    "    \n",
    "    #plot zip codes and prob color grid\n",
    "    folium.GeoJson(gdf1.to_json(),overlay=True,\n",
    "        style_function=lambda feature: \n",
    "               {'color': \"black\",\n",
    "               'weight':1.5,\n",
    "               'fillColor': colormap(gdf[feature['id']])}\n",
    "              ).add_to(sfmap)\n",
    "    folium.LayerControl().add_to(sfmap)\n",
    "    \n",
    "    #read in ambulance data, add markers\n",
    "    \n",
    "    ambulance = pd.read_csv(ambfile)\n",
    "    \n",
    "    for i in ambulance.values:\n",
    "        if i[1] != 0:\n",
    "            if i[3] == 1:\n",
    "                add_ambmarker(sfmap,i[1], i[2],i[0])\n",
    "\n",
    "            else:\n",
    "                dispatch_ambmarker(sfmap,i[1], i[2],i[0])\n",
    "\n",
    "    #input ems event markers\n",
    "    add_emsmarker(sfmap,current_call[1],current_call[2],current_call[0])\n",
    "    \n",
    "    #dispatch an ambulance\n",
    "    #available_amb = ambulance.loc[ambulance.AVAILABLE == 1]\n",
    "    #amb_coord = [(row[2], row[3]) for row in available_amb.itertuples()]\n",
    "    #call_coord = [(current_call[1], current_call[2])]\n",
    "    #dep_time = current_call[3]\n",
    "    #result = api_call(amb_coord,call_coord,dep_time,api_key,available_amb)\n",
    "    \n",
    "    #print(\"DISPATCHED AMBULANCE #:\",result)\n",
    "    #update ambulance pd and save to file\n",
    "    #ambulance.AVAILABLE[ambulance.AMB_ID==result] = 0\n",
    "    \n",
    "    #don't want to edit anyones files just yet\n",
    "    #ambulance.to_csv(ambfile,index=False)\n",
    "    \n",
    "    #add ambulance markers\n",
    "\n",
    "    return sfmap"
   ]
  },
  {
   "cell_type": "code",
   "execution_count": 22,
   "metadata": {
    "collapsed": true
   },
   "outputs": [],
   "source": [
    "def dispatch_ambulance(ambfile,current_call,api_key):\n",
    "    ambulance = pd.read_csv(ambfile)\n",
    "    available_amb = ambulance.loc[ambulance.AVAILABLE == 1]\n",
    "    amb_coord = [(row[2], row[3]) for row in available_amb.itertuples()]\n",
    "    call_coord = [(current_call[1], current_call[2])]\n",
    "    dep_time = current_call[3]\n",
    "    result = api_call(amb_coord,call_coord,dep_time,api_key,available_amb)\n",
    "    \n",
    "    print(\"DISPATCHED AMBULANCE #:\",result)\n",
    "    #update ambulance pd and save to file\n",
    "    ambulance.AVAILABLE[ambulance.AMB_ID==result] = 0\n",
    "    ambulance.to_csv(ambfile,index=False)"
   ]
  },
  {
   "cell_type": "code",
   "execution_count": 11,
   "metadata": {
    "collapsed": false
   },
   "outputs": [],
   "source": [
    "def activate_ambulance(amb,ambfile):\n",
    "    ambulance = pd.read_csv(ambfile)\n",
    "    ambulance.AVAILABLE[ambulance.AMB_ID==amb] = 1\n",
    "    ambulance.to_csv(ambfile,index=False)"
   ]
  },
  {
   "cell_type": "code",
   "execution_count": 72,
   "metadata": {
    "collapsed": false
   },
   "outputs": [
    {
     "data": {
      "text/plain": [
       "[(45.5238131, -122.6744172)]"
      ]
     },
     "execution_count": 72,
     "metadata": {},
     "output_type": "execute_result"
    }
   ],
   "source": [
    "def get_coordinates(key, addr):\n",
    "    \"\"\"Runs google maps geocoding api to return lat/long coords\n",
    "    for a list of addresses.\n",
    "    key: string (API key)\n",
    "    addr: list of strings (addresses)\"\"\"\n",
    "    gmaps = googlemaps.Client(key=key)\n",
    "    coords = []\n",
    "    for ad in addr:\n",
    "        geocode_result = gmaps.geocode(ad)\n",
    "        lat_long = geocode_result[0]['geometry']['location']\n",
    "        # Add tuple with lat & long to coords output\n",
    "        coords.append((lat_long['lat'], lat_long['lng']))\n",
    "    return coords\n",
    "        \n",
    "get_coordinates(key_code, ['NW 4th & Couch'])"
   ]
  },
  {
   "cell_type": "code",
   "execution_count": 40,
   "metadata": {
    "collapsed": false
   },
   "outputs": [
    {
     "name": "stderr",
     "output_type": "stream",
     "text": [
      "/usr/local/lib/python3.6/site-packages/ipykernel/__main__.py:3: SettingWithCopyWarning: \n",
      "A value is trying to be set on a copy of a slice from a DataFrame\n",
      "\n",
      "See the caveats in the documentation: http://pandas.pydata.org/pandas-docs/stable/indexing.html#indexing-view-versus-copy\n",
      "  app.launch_new_instance()\n"
     ]
    }
   ],
   "source": [
    "#activate an ambulance\n",
    "activate_ambulance('amb_7','ambulance_loc.csv')"
   ]
  },
  {
   "cell_type": "code",
   "execution_count": 120,
   "metadata": {
    "collapsed": false
   },
   "outputs": [
    {
     "name": "stdout",
     "output_type": "stream",
     "text": [
      "DISPATCHED AMBULANCE #: amb_10\n"
     ]
    },
    {
     "name": "stderr",
     "output_type": "stream",
     "text": [
      "/usr/local/lib/python3.6/site-packages/ipykernel/__main__.py:11: SettingWithCopyWarning: \n",
      "A value is trying to be set on a copy of a slice from a DataFrame\n",
      "\n",
      "See the caveats in the documentation: http://pandas.pydata.org/pandas-docs/stable/indexing.html#indexing-view-versus-copy\n"
     ]
    }
   ],
   "source": [
    "#dispatch an ambulance\n",
    "dispatch_ambulance('ambulance_loc.csv',current_call,key)"
   ]
  },
  {
   "cell_type": "code",
   "execution_count": 119,
   "metadata": {
    "collapsed": false,
    "scrolled": true
   },
   "outputs": [],
   "source": [
    "current_call = get_current_call('calls.csv')\n",
    "##must be changed for everyone's key\n",
    "key = get_api_key('/Users/priyagupta/Desktop/key.txt')\n",
    "key_code = get_api_key('/Users/priyagupta/Desktop/key_code.txt')\n",
    "map_test = create_map('sf_zcta/sf_zcta.shp','ambulance_loc.csv',current_call)"
   ]
  },
  {
   "cell_type": "code",
   "execution_count": 44,
   "metadata": {
    "collapsed": false
   },
   "outputs": [
    {
     "data": {
      "text/plain": [
       "array(['call_1', 37.788001, -122.40740900000002,\n",
       "       Timestamp('2017-12-01 23:05:00')], dtype=object)"
      ]
     },
     "execution_count": 44,
     "metadata": {},
     "output_type": "execute_result"
    }
   ],
   "source": [
    "#current_call is an array([key, lat, long, Timestamp]"
   ]
  },
  {
   "cell_type": "code",
   "execution_count": 75,
   "metadata": {
    "collapsed": false
   },
   "outputs": [],
   "source": [
    "import ipywidgets as widgets\n",
    "from IPython.display import display\n",
    "\n",
    "text= widgets.Text()\n",
    "display(text)"
   ]
  },
  {
   "cell_type": "code",
   "execution_count": 127,
   "metadata": {
    "collapsed": false
   },
   "outputs": [
    {
     "name": "stdout",
     "output_type": "stream",
     "text": [
      "Now Active amb_10\n"
     ]
    },
    {
     "name": "stderr",
     "output_type": "stream",
     "text": [
      "/usr/local/lib/python3.6/site-packages/ipykernel/__main__.py:3: SettingWithCopyWarning: \n",
      "A value is trying to be set on a copy of a slice from a DataFrame\n",
      "\n",
      "See the caveats in the documentation: http://pandas.pydata.org/pandas-docs/stable/indexing.html#indexing-view-versus-copy\n",
      "  app.launch_new_instance()\n"
     ]
    }
   ],
   "source": [
    "import ipywidgets as widgets\n",
    "from IPython.display import display\n",
    "\n",
    "amb = widgets.Text()\n",
    "display(amb)\n",
    "\n",
    "def handle_amb_submit(sender):\n",
    "    print(\"Now Active\",amb.value)\n",
    "    activate_ambulance(amb.value,'ambulance_loc.csv')\n",
    "    \n",
    "amb.on_submit(handle_amb_submit)\n",
    "    "
   ]
  },
  {
   "cell_type": "code",
   "execution_count": 114,
   "metadata": {
    "collapsed": false
   },
   "outputs": [],
   "source": [
    "import datetime\n",
    "p = get_coordinates(key_code,[text.value])\n",
    "test = np.array([\"1\",p[0][0],p[0][1],pd.Timestamp(str(datetime.datetime.now()))])"
   ]
  },
  {
   "cell_type": "code",
   "execution_count": 110,
   "metadata": {
    "collapsed": true
   },
   "outputs": [],
   "source": [
    "map_test = create_map('sf_zcta/sf_zcta.shp','ambulance_loc.csv',test)"
   ]
  },
  {
   "cell_type": "code",
   "execution_count": 109,
   "metadata": {
    "collapsed": false
   },
   "outputs": [
    {
     "name": "stdout",
     "output_type": "stream",
     "text": [
      "DISPATCHED AMBULANCE #: amb_3\n"
     ]
    },
    {
     "name": "stderr",
     "output_type": "stream",
     "text": [
      "/usr/local/lib/python3.6/site-packages/ipykernel/__main__.py:11: SettingWithCopyWarning: \n",
      "A value is trying to be set on a copy of a slice from a DataFrame\n",
      "\n",
      "See the caveats in the documentation: http://pandas.pydata.org/pandas-docs/stable/indexing.html#indexing-view-versus-copy\n"
     ]
    }
   ],
   "source": [
    "dispatch_ambulance('ambulance_loc.csv',test,key)"
   ]
  },
  {
   "cell_type": "code",
   "execution_count": 128,
   "metadata": {
    "collapsed": true
   },
   "outputs": [],
   "source": [
    "map_test = create_map('sf_zcta/sf_zcta.shp','ambulance_loc.csv',test)"
   ]
  },
  {
   "cell_type": "code",
   "execution_count": 129,
   "metadata": {
    "collapsed": false,
    "scrolled": false
   },
   "outputs": [
    {
     "data": {
      "text/html": [
       "<div style=\"width:100%;\"><div style=\"position:relative;width:100%;height:0;padding-bottom:60%;\"><iframe src=\"data:text/html;charset=utf-8;base64,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\" style=\"position:absolute;width:100%;height:100%;left:0;top:0;border:none !important;\" allowfullscreen webkitallowfullscreen mozallowfullscreen></iframe></div></div>"
      ],
      "text/plain": [
       "<folium.folium.Map at 0x1133bccc0>"
      ]
     },
     "execution_count": 129,
     "metadata": {},
     "output_type": "execute_result"
    }
   ],
   "source": [
    "map_test"
   ]
  },
  {
   "cell_type": "code",
   "execution_count": null,
   "metadata": {
    "collapsed": true
   },
   "outputs": [],
   "source": []
  },
  {
   "cell_type": "code",
   "execution_count": null,
   "metadata": {
    "collapsed": true
   },
   "outputs": [],
   "source": []
  }
 ],
 "metadata": {
  "kernelspec": {
   "display_name": "Python 3",
   "language": "python",
   "name": "python3"
  },
  "language_info": {
   "codemirror_mode": {
    "name": "ipython",
    "version": 3
   },
   "file_extension": ".py",
   "mimetype": "text/x-python",
   "name": "python",
   "nbconvert_exporter": "python",
   "pygments_lexer": "ipython3",
   "version": "3.6.2"
  },
  "widgets": {
   "state": {
    "21ae9d2e42d44d6eb56f17cf906995eb": {
     "views": [
      {
       "cell_index": 12
      }
     ]
    },
    "703e3f47fe964f2d909b967dfbdb3df4": {
     "views": [
      {
       "cell_index": 11
      }
     ]
    }
   },
   "version": "1.2.0"
  }
 },
 "nbformat": 4,
 "nbformat_minor": 2
}
