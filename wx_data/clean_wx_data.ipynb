{
 "cells": [
  {
   "cell_type": "code",
   "execution_count": 1,
   "metadata": {
    "collapsed": false
   },
   "outputs": [],
   "source": [
    "import pandas as pd\n",
    "from os import listdir"
   ]
  },
  {
   "cell_type": "code",
   "execution_count": 2,
   "metadata": {
    "collapsed": false
   },
   "outputs": [],
   "source": [
    "suffix = \".csv\"\n",
    "filenames = listdir()\n",
    "files = [f for f in filenames if f.endswith(suffix)]\n",
    "\n",
    "if len(files) == 1:\n",
    "    d = pd.read_csv(files[0], parse_dates=['DATE'], low_memory=False)\n",
    "    d = d[['DATE', 'AWND', 'PRCP', 'TAVG', 'TMAX', 'TMIN']]\n",
    "else:\n",
    "    d = pd.DataFrame()\n",
    "    for f in files:\n",
    "        new_df = pd.read_csv(f, parse_dates=['DATE'], low_memory=False)\n",
    "        new_df = new_df[['DATE', 'AWND', 'PRCP', 'TAVG', 'TMAX', 'TMIN']]\n",
    "        if d.empty:\n",
    "            d = new_df\n",
    "        else:\n",
    "            d = pd.concat([d, new_df], axis=0, ignore_index=True)"
   ]
  },
  {
   "cell_type": "code",
   "execution_count": 3,
   "metadata": {
    "collapsed": false
   },
   "outputs": [
    {
     "data": {
      "text/html": [
       "<div>\n",
       "<table border=\"1\" class=\"dataframe\">\n",
       "  <thead>\n",
       "    <tr style=\"text-align: right;\">\n",
       "      <th></th>\n",
       "      <th>DATE</th>\n",
       "      <th>AWND</th>\n",
       "      <th>PRCP</th>\n",
       "      <th>TAVG</th>\n",
       "      <th>TMAX</th>\n",
       "      <th>TMIN</th>\n",
       "    </tr>\n",
       "  </thead>\n",
       "  <tbody>\n",
       "    <tr>\n",
       "      <th>0</th>\n",
       "      <td>2012-01-01</td>\n",
       "      <td>6.082</td>\n",
       "      <td>0.000000</td>\n",
       "      <td>51.750000</td>\n",
       "      <td>60.758621</td>\n",
       "      <td>43.689655</td>\n",
       "    </tr>\n",
       "    <tr>\n",
       "      <th>1</th>\n",
       "      <td>2012-01-02</td>\n",
       "      <td>2.818</td>\n",
       "      <td>0.000000</td>\n",
       "      <td>50.625000</td>\n",
       "      <td>59.620690</td>\n",
       "      <td>43.724138</td>\n",
       "    </tr>\n",
       "    <tr>\n",
       "      <th>2</th>\n",
       "      <td>2012-01-03</td>\n",
       "      <td>1.654</td>\n",
       "      <td>0.000426</td>\n",
       "      <td>51.875000</td>\n",
       "      <td>59.862069</td>\n",
       "      <td>43.965517</td>\n",
       "    </tr>\n",
       "    <tr>\n",
       "      <th>3</th>\n",
       "      <td>2012-01-04</td>\n",
       "      <td>2.326</td>\n",
       "      <td>0.000000</td>\n",
       "      <td>55.555556</td>\n",
       "      <td>63.862069</td>\n",
       "      <td>43.586207</td>\n",
       "    </tr>\n",
       "    <tr>\n",
       "      <th>4</th>\n",
       "      <td>2012-01-05</td>\n",
       "      <td>4.698</td>\n",
       "      <td>0.000000</td>\n",
       "      <td>54.181818</td>\n",
       "      <td>64.343750</td>\n",
       "      <td>42.562500</td>\n",
       "    </tr>\n",
       "  </tbody>\n",
       "</table>\n",
       "</div>"
      ],
      "text/plain": [
       "        DATE   AWND      PRCP       TAVG       TMAX       TMIN\n",
       "0 2012-01-01  6.082  0.000000  51.750000  60.758621  43.689655\n",
       "1 2012-01-02  2.818  0.000000  50.625000  59.620690  43.724138\n",
       "2 2012-01-03  1.654  0.000426  51.875000  59.862069  43.965517\n",
       "3 2012-01-04  2.326  0.000000  55.555556  63.862069  43.586207\n",
       "4 2012-01-05  4.698  0.000000  54.181818  64.343750  42.562500"
      ]
     },
     "execution_count": 3,
     "metadata": {},
     "output_type": "execute_result"
    }
   ],
   "source": [
    "d.head()"
   ]
  },
  {
   "cell_type": "code",
   "execution_count": 9,
   "metadata": {
    "collapsed": false
   },
   "outputs": [
    {
     "data": {
      "text/plain": [
       "['agg_wx_data.csv',\n",
       " 'SF_WX_Data_2000_2005.csv',\n",
       " 'SF_WX_Data_2006_2011.csv',\n",
       " 'SF_WX_Data_2012_2017.csv']"
      ]
     },
     "execution_count": 9,
     "metadata": {},
     "output_type": "execute_result"
    }
   ],
   "source": [
    "files"
   ]
  },
  {
   "cell_type": "code",
   "execution_count": 7,
   "metadata": {
    "collapsed": false
   },
   "outputs": [],
   "source": [
    "new_df = d.groupby(['DATE'], as_index=False).mean()"
   ]
  },
  {
   "cell_type": "code",
   "execution_count": 8,
   "metadata": {
    "collapsed": false
   },
   "outputs": [
    {
     "data": {
      "text/html": [
       "<div>\n",
       "<table border=\"1\" class=\"dataframe\">\n",
       "  <thead>\n",
       "    <tr style=\"text-align: right;\">\n",
       "      <th></th>\n",
       "      <th>DATE</th>\n",
       "      <th>AWND</th>\n",
       "      <th>PRCP</th>\n",
       "      <th>TAVG</th>\n",
       "      <th>TMAX</th>\n",
       "      <th>TMIN</th>\n",
       "    </tr>\n",
       "  </thead>\n",
       "  <tbody>\n",
       "    <tr>\n",
       "      <th>0</th>\n",
       "      <td>2000-01-01</td>\n",
       "      <td>7.962</td>\n",
       "      <td>0.000000</td>\n",
       "      <td>46.357143</td>\n",
       "      <td>52.800000</td>\n",
       "      <td>41.900000</td>\n",
       "    </tr>\n",
       "    <tr>\n",
       "      <th>1</th>\n",
       "      <td>2000-01-02</td>\n",
       "      <td>6.310</td>\n",
       "      <td>0.000000</td>\n",
       "      <td>44.285714</td>\n",
       "      <td>54.166667</td>\n",
       "      <td>36.900000</td>\n",
       "    </tr>\n",
       "    <tr>\n",
       "      <th>2</th>\n",
       "      <td>2000-01-03</td>\n",
       "      <td>3.758</td>\n",
       "      <td>0.001250</td>\n",
       "      <td>47.642857</td>\n",
       "      <td>57.933333</td>\n",
       "      <td>38.233333</td>\n",
       "    </tr>\n",
       "    <tr>\n",
       "      <th>3</th>\n",
       "      <td>2000-01-04</td>\n",
       "      <td>3.894</td>\n",
       "      <td>0.066667</td>\n",
       "      <td>47.857143</td>\n",
       "      <td>55.866667</td>\n",
       "      <td>39.500000</td>\n",
       "    </tr>\n",
       "    <tr>\n",
       "      <th>4</th>\n",
       "      <td>2000-01-05</td>\n",
       "      <td>5.502</td>\n",
       "      <td>0.002917</td>\n",
       "      <td>50.071429</td>\n",
       "      <td>59.866667</td>\n",
       "      <td>40.366667</td>\n",
       "    </tr>\n",
       "  </tbody>\n",
       "</table>\n",
       "</div>"
      ],
      "text/plain": [
       "        DATE   AWND      PRCP       TAVG       TMAX       TMIN\n",
       "0 2000-01-01  7.962  0.000000  46.357143  52.800000  41.900000\n",
       "1 2000-01-02  6.310  0.000000  44.285714  54.166667  36.900000\n",
       "2 2000-01-03  3.758  0.001250  47.642857  57.933333  38.233333\n",
       "3 2000-01-04  3.894  0.066667  47.857143  55.866667  39.500000\n",
       "4 2000-01-05  5.502  0.002917  50.071429  59.866667  40.366667"
      ]
     },
     "execution_count": 8,
     "metadata": {},
     "output_type": "execute_result"
    }
   ],
   "source": [
    "new_df.head()"
   ]
  },
  {
   "cell_type": "code",
   "execution_count": 35,
   "metadata": {
    "collapsed": true
   },
   "outputs": [],
   "source": [
    "new_df.to_csv('agg_wx_data.csv', index=False)"
   ]
  },
  {
   "cell_type": "code",
   "execution_count": null,
   "metadata": {
    "collapsed": true
   },
   "outputs": [],
   "source": []
  }
 ],
 "metadata": {
  "anaconda-cloud": {},
  "kernelspec": {
   "display_name": "Python [conda root]",
   "language": "python",
   "name": "conda-root-py"
  },
  "language_info": {
   "codemirror_mode": {
    "name": "ipython",
    "version": 3
   },
   "file_extension": ".py",
   "mimetype": "text/x-python",
   "name": "python",
   "nbconvert_exporter": "python",
   "pygments_lexer": "ipython3",
   "version": "3.5.2"
  }
 },
 "nbformat": 4,
 "nbformat_minor": 1
}
