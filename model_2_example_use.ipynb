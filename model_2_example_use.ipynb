{
 "cells": [
  {
   "cell_type": "markdown",
   "metadata": {},
   "source": [
    "This notebook shows how run model 2 with model_2_funcs.py\n",
    "\n",
    "For inputs, it will need the file paths for a CSV that contain the current ambulance statuses (id, lat, long, availability), the zcta shape file, and a CSV of current predictions for each zcta (field names 'region_id' and 'prediction')."
   ]
  },
  {
   "cell_type": "code",
   "execution_count": 4,
   "metadata": {
    "collapsed": true
   },
   "outputs": [],
   "source": [
    "import model_2_funcs"
   ]
  },
  {
   "cell_type": "code",
   "execution_count": 5,
   "metadata": {
    "collapsed": false
   },
   "outputs": [],
   "source": [
    "amb_status_file_path='./ambulance_loc.csv'\n",
    "new_amb_locations = model_2_funcs.update_ambulance_assignments(amb_status_file_path=amb_status_file_path,\n",
    "                                                               shape_file_path='./zctas/sf_zcta.shp',\n",
    "                                                               predictions_file_path='./ex_predictions.csv',\n",
    "                                                               results_file_path=None,\n",
    "                                                               shape_region_id_col = 'ZCTA5CE10')"
   ]
  },
  {
   "cell_type": "code",
   "execution_count": 6,
   "metadata": {
    "collapsed": false
   },
   "outputs": [],
   "source": [
    "## WARNING: This will overwrite the status file that was used as an input\n",
    "new_amb_locations.to_csv(amb_status_file_path)"
   ]
  },
  {
   "cell_type": "code",
   "execution_count": 7,
   "metadata": {
    "collapsed": false
   },
   "outputs": [
    {
     "data": {
      "text/html": [
       "<div>\n",
       "<table border=\"1\" class=\"dataframe\">\n",
       "  <thead>\n",
       "    <tr style=\"text-align: right;\">\n",
       "      <th></th>\n",
       "      <th>LAT</th>\n",
       "      <th>LONG</th>\n",
       "      <th>AVAILABLE</th>\n",
       "    </tr>\n",
       "    <tr>\n",
       "      <th>AMB_ID</th>\n",
       "      <th></th>\n",
       "      <th></th>\n",
       "      <th></th>\n",
       "    </tr>\n",
       "  </thead>\n",
       "  <tbody>\n",
       "    <tr>\n",
       "      <th>amb_1</th>\n",
       "      <td>37.793688</td>\n",
       "      <td>-122.455071</td>\n",
       "      <td>1</td>\n",
       "    </tr>\n",
       "    <tr>\n",
       "      <th>amb_2</th>\n",
       "      <td>37.721465</td>\n",
       "      <td>-122.441801</td>\n",
       "      <td>1</td>\n",
       "    </tr>\n",
       "    <tr>\n",
       "      <th>amb_3</th>\n",
       "      <td>37.750238</td>\n",
       "      <td>-122.433703</td>\n",
       "      <td>0</td>\n",
       "    </tr>\n",
       "    <tr>\n",
       "      <th>amb_4</th>\n",
       "      <td>37.769200</td>\n",
       "      <td>-122.448100</td>\n",
       "      <td>0</td>\n",
       "    </tr>\n",
       "    <tr>\n",
       "      <th>amb_5</th>\n",
       "      <td>37.762707</td>\n",
       "      <td>-122.441038</td>\n",
       "      <td>1</td>\n",
       "    </tr>\n",
       "    <tr>\n",
       "      <th>amb_6</th>\n",
       "      <td>37.721897</td>\n",
       "      <td>-122.478209</td>\n",
       "      <td>0</td>\n",
       "    </tr>\n",
       "    <tr>\n",
       "      <th>amb_7</th>\n",
       "      <td>37.757990</td>\n",
       "      <td>-122.487358</td>\n",
       "      <td>1</td>\n",
       "    </tr>\n",
       "    <tr>\n",
       "      <th>amb_8</th>\n",
       "      <td>37.751302</td>\n",
       "      <td>-122.396542</td>\n",
       "      <td>1</td>\n",
       "    </tr>\n",
       "    <tr>\n",
       "      <th>amb_9</th>\n",
       "      <td>37.799263</td>\n",
       "      <td>-122.397673</td>\n",
       "      <td>0</td>\n",
       "    </tr>\n",
       "    <tr>\n",
       "      <th>amb_10</th>\n",
       "      <td>37.793109</td>\n",
       "      <td>-122.393462</td>\n",
       "      <td>1</td>\n",
       "    </tr>\n",
       "  </tbody>\n",
       "</table>\n",
       "</div>"
      ],
      "text/plain": [
       "              LAT        LONG  AVAILABLE\n",
       "AMB_ID                                  \n",
       "amb_1   37.793688 -122.455071          1\n",
       "amb_2   37.721465 -122.441801          1\n",
       "amb_3   37.750238 -122.433703          0\n",
       "amb_4   37.769200 -122.448100          0\n",
       "amb_5   37.762707 -122.441038          1\n",
       "amb_6   37.721897 -122.478209          0\n",
       "amb_7   37.757990 -122.487358          1\n",
       "amb_8   37.751302 -122.396542          1\n",
       "amb_9   37.799263 -122.397673          0\n",
       "amb_10  37.793109 -122.393462          1"
      ]
     },
     "execution_count": 7,
     "metadata": {},
     "output_type": "execute_result"
    }
   ],
   "source": [
    "new_amb_locations"
   ]
  }
 ],
 "metadata": {
  "kernelspec": {
   "display_name": "Python [default]",
   "language": "python",
   "name": "python3"
  },
  "language_info": {
   "codemirror_mode": {
    "name": "ipython",
    "version": 3
   },
   "file_extension": ".py",
   "mimetype": "text/x-python",
   "name": "python",
   "nbconvert_exporter": "python",
   "pygments_lexer": "ipython3",
   "version": "3.5.2"
  }
 },
 "nbformat": 4,
 "nbformat_minor": 2
}
