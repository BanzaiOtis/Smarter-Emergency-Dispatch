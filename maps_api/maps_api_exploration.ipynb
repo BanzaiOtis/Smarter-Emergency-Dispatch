{
 "cells": [
  {
   "cell_type": "code",
   "execution_count": 1,
   "metadata": {
    "collapsed": true
   },
   "outputs": [],
   "source": [
    "# from distance_request import *\n",
    "from datetime import datetime\n",
    "import googlemaps\n",
    "import pandas as pd"
   ]
  },
  {
   "cell_type": "code",
   "execution_count": 2,
   "metadata": {
    "collapsed": false
   },
   "outputs": [],
   "source": [
    "# Read in call & ambulance files\n",
    "calls_df = pd.read_csv('calls.csv', parse_dates=[3])\n",
    "amb_df = pd.read_csv('ambulance_loc.csv')\n",
    "\n",
    "# Select the most recent call and the available ambulances\n",
    "current_call = calls_df.loc[calls_df.TIME == max(calls_df.TIME)]\n",
    "available_amb = amb_df.loc[amb_df.AVAILABLE == 1]"
   ]
  },
  {
   "cell_type": "code",
   "execution_count": 3,
   "metadata": {
    "collapsed": false
   },
   "outputs": [
    {
     "data": {
      "text/html": [
       "<div>\n",
       "<table border=\"1\" class=\"dataframe\">\n",
       "  <thead>\n",
       "    <tr style=\"text-align: right;\">\n",
       "      <th></th>\n",
       "      <th>AMB_ID</th>\n",
       "      <th>LAT</th>\n",
       "      <th>LONG</th>\n",
       "      <th>AVAILABLE</th>\n",
       "    </tr>\n",
       "  </thead>\n",
       "  <tbody>\n",
       "    <tr>\n",
       "      <th>0</th>\n",
       "      <td>amb_1</td>\n",
       "      <td>37.615223</td>\n",
       "      <td>-122.389977</td>\n",
       "      <td>1</td>\n",
       "    </tr>\n",
       "    <tr>\n",
       "      <th>1</th>\n",
       "      <td>amb_2</td>\n",
       "      <td>37.802400</td>\n",
       "      <td>-122.405800</td>\n",
       "      <td>1</td>\n",
       "    </tr>\n",
       "    <tr>\n",
       "      <th>2</th>\n",
       "      <td>amb_3</td>\n",
       "      <td>37.750238</td>\n",
       "      <td>-122.433703</td>\n",
       "      <td>1</td>\n",
       "    </tr>\n",
       "    <tr>\n",
       "      <th>4</th>\n",
       "      <td>amb_5</td>\n",
       "      <td>37.774929</td>\n",
       "      <td>-122.419416</td>\n",
       "      <td>1</td>\n",
       "    </tr>\n",
       "    <tr>\n",
       "      <th>6</th>\n",
       "      <td>amb_7</td>\n",
       "      <td>37.785413</td>\n",
       "      <td>-122.429383</td>\n",
       "      <td>1</td>\n",
       "    </tr>\n",
       "  </tbody>\n",
       "</table>\n",
       "</div>"
      ],
      "text/plain": [
       "  AMB_ID        LAT        LONG  AVAILABLE\n",
       "0  amb_1  37.615223 -122.389977          1\n",
       "1  amb_2  37.802400 -122.405800          1\n",
       "2  amb_3  37.750238 -122.433703          1\n",
       "4  amb_5  37.774929 -122.419416          1\n",
       "6  amb_7  37.785413 -122.429383          1"
      ]
     },
     "execution_count": 3,
     "metadata": {},
     "output_type": "execute_result"
    }
   ],
   "source": [
    "available_amb.head()"
   ]
  },
  {
   "cell_type": "code",
   "execution_count": 4,
   "metadata": {
    "collapsed": false
   },
   "outputs": [
    {
     "data": {
      "text/html": [
       "<div>\n",
       "<table border=\"1\" class=\"dataframe\">\n",
       "  <thead>\n",
       "    <tr style=\"text-align: right;\">\n",
       "      <th></th>\n",
       "      <th>CALL_ID</th>\n",
       "      <th>LAT</th>\n",
       "      <th>LONG</th>\n",
       "      <th>TIME</th>\n",
       "    </tr>\n",
       "  </thead>\n",
       "  <tbody>\n",
       "    <tr>\n",
       "      <th>0</th>\n",
       "      <td>call_1</td>\n",
       "      <td>37.788001</td>\n",
       "      <td>-122.407409</td>\n",
       "      <td>2017-12-01 23:05:00</td>\n",
       "    </tr>\n",
       "  </tbody>\n",
       "</table>\n",
       "</div>"
      ],
      "text/plain": [
       "  CALL_ID        LAT        LONG                TIME\n",
       "0  call_1  37.788001 -122.407409 2017-12-01 23:05:00"
      ]
     },
     "execution_count": 4,
     "metadata": {},
     "output_type": "execute_result"
    }
   ],
   "source": [
    "current_call"
   ]
  },
  {
   "cell_type": "code",
   "execution_count": 5,
   "metadata": {
    "collapsed": false
   },
   "outputs": [],
   "source": [
    "# Get coordinates of most recent call and available ambulances\n",
    "call_coord = [(current_call.LAT[0], current_call.LONG[0])]\n",
    "amb_coord = [(row[2], row[3]) for row in available_amb.itertuples()]\n",
    "\n",
    "# Use call time as proxy for departure time\n",
    "dep_time = current_call.TIME[0]"
   ]
  },
  {
   "cell_type": "code",
   "execution_count": 6,
   "metadata": {
    "collapsed": true
   },
   "outputs": [],
   "source": [
    "# Get api key to make call\n",
    "def get_api_key(filepath):\n",
    "    with open(filepath) as f:\n",
    "        content = f.readlines()\n",
    "    # remove whitespace characters at the end of each line\n",
    "    content = [x.strip() for x in content]\n",
    "    key = content[0]\n",
    "    return key\n",
    "\n",
    "key = get_api_key('/Users/melaniecostello/Desktop/maps_distance_key.txt')"
   ]
  },
  {
   "cell_type": "code",
   "execution_count": 7,
   "metadata": {
    "collapsed": true
   },
   "outputs": [],
   "source": [
    "# Make API call & store results in obj 'result'\n",
    "gmaps = googlemaps.Client(key=key)\n",
    "result = gmaps.distance_matrix(amb_coord, call_coord, mode=\"driving\", units=\"imperial\", departure_time=dep_time)"
   ]
  },
  {
   "cell_type": "code",
   "execution_count": 8,
   "metadata": {
    "collapsed": false
   },
   "outputs": [
    {
     "data": {
      "text/plain": [
       "{'destination_addresses': ['350 Post St, San Francisco, CA 94108, USA'],\n",
       " 'origin_addresses': ['International Terminal Arrivals Level, San Francisco, CA 94128, USA',\n",
       "  '39-95 Telegraph Hill Blvd, San Francisco, CA 94133, USA',\n",
       "  '1400-1414 Castro St, San Francisco, CA 94114, USA',\n",
       "  '8411 Market St, San Francisco, CA 94103, USA',\n",
       "  '1682 Post St, San Francisco, CA 94115, USA',\n",
       "  '4900 Marie P DeBartolo Way, Santa Clara, CA 95054, USA',\n",
       "  '6 Broadway, San Francisco, CA 94111, USA',\n",
       "  '150 3rd St, San Francisco, CA 94103, USA'],\n",
       " 'rows': [{'elements': [{'distance': {'text': '13.8 mi', 'value': 22205},\n",
       "     'duration': {'text': '25 mins', 'value': 1496},\n",
       "     'duration_in_traffic': {'text': '24 mins', 'value': 1413},\n",
       "     'status': 'OK'}]},\n",
       "  {'elements': [{'distance': {'text': '1.6 mi', 'value': 2544},\n",
       "     'duration': {'text': '14 mins', 'value': 851},\n",
       "     'duration_in_traffic': {'text': '13 mins', 'value': 801},\n",
       "     'status': 'OK'}]},\n",
       "  {'elements': [{'distance': {'text': '4.1 mi', 'value': 6520},\n",
       "     'duration': {'text': '23 mins', 'value': 1359},\n",
       "     'duration_in_traffic': {'text': '21 mins', 'value': 1258},\n",
       "     'status': 'OK'}]},\n",
       "  {'elements': [{'distance': {'text': '1.8 mi', 'value': 2934},\n",
       "     'duration': {'text': '11 mins', 'value': 674},\n",
       "     'duration_in_traffic': {'text': '11 mins', 'value': 636},\n",
       "     'status': 'OK'}]},\n",
       "  {'elements': [{'distance': {'text': '1.2 mi', 'value': 1951},\n",
       "     'duration': {'text': '8 mins', 'value': 494},\n",
       "     'duration_in_traffic': {'text': '8 mins', 'value': 477},\n",
       "     'status': 'OK'}]},\n",
       "  {'elements': [{'distance': {'text': '44.1 mi', 'value': 70986},\n",
       "     'duration': {'text': '57 mins', 'value': 3400},\n",
       "     'duration_in_traffic': {'text': '52 mins', 'value': 3144},\n",
       "     'status': 'OK'}]},\n",
       "  {'elements': [{'distance': {'text': '1.4 mi', 'value': 2243},\n",
       "     'duration': {'text': '10 mins', 'value': 627},\n",
       "     'duration_in_traffic': {'text': '9 mins', 'value': 564},\n",
       "     'status': 'OK'}]},\n",
       "  {'elements': [{'distance': {'text': '0.6 mi', 'value': 953},\n",
       "     'duration': {'text': '5 mins', 'value': 308},\n",
       "     'duration_in_traffic': {'text': '5 mins', 'value': 277},\n",
       "     'status': 'OK'}]}],\n",
       " 'status': 'OK'}"
      ]
     },
     "execution_count": 8,
     "metadata": {},
     "output_type": "execute_result"
    }
   ],
   "source": [
    "result"
   ]
  },
  {
   "cell_type": "code",
   "execution_count": 38,
   "metadata": {
    "collapsed": false
   },
   "outputs": [],
   "source": [
    "# Helper function to parse results\n",
    "def parse_api_obj(result, available_amb, current_call):\n",
    "    output_mat = pd.DataFrame()\n",
    "    for idx, row in enumerate(result['rows']):\n",
    "        row_mat = pd.DataFrame()\n",
    "        mat = row['elements'][0]\n",
    "        for key, val in mat.items():\n",
    "            if key != 'status':\n",
    "                df = pd.DataFrame.from_dict(val, orient='index')\n",
    "                df = df.transpose()\n",
    "                df.columns = [key + \"_\" + c for c in df.columns]\n",
    "                if row_mat.empty:\n",
    "                    row_mat = df\n",
    "                else:\n",
    "                    row_mat = pd.concat([row_mat, df], axis=1)\n",
    "        if output_mat.empty:\n",
    "            output_mat = row_mat\n",
    "        else:\n",
    "            output_mat = output_mat.append(row_mat)\n",
    "#     output_mat.index = [amb for amb in available_amb.AMB_ID]\n",
    "    output_mat['ambulance'] = [amb for amb in available_amb.AMB_ID]\n",
    "    output_mat['amb_lat'] = [lat for lat in available_amb.LAT]\n",
    "    output_mat['amb_long'] = [long for long in available_amb.LONG]\n",
    "    output_mat['call_lat'] = current_call.LAT[0]\n",
    "    output_mat['call_long'] = current_call.LONG[0]\n",
    "    output_mat.reset_index(inplace=True, drop=True)\n",
    "    return output_mat"
   ]
  },
  {
   "cell_type": "code",
   "execution_count": 39,
   "metadata": {
    "collapsed": false
   },
   "outputs": [],
   "source": [
    "# Get data frame of available ambulances\n",
    "options = parse_api_obj(result, available_amb, current_call)"
   ]
  },
  {
   "cell_type": "code",
   "execution_count": 40,
   "metadata": {
    "collapsed": false
   },
   "outputs": [
    {
     "data": {
      "text/html": [
       "<div>\n",
       "<table border=\"1\" class=\"dataframe\">\n",
       "  <thead>\n",
       "    <tr style=\"text-align: right;\">\n",
       "      <th></th>\n",
       "      <th>distance_text</th>\n",
       "      <th>distance_value</th>\n",
       "      <th>duration_in_traffic_text</th>\n",
       "      <th>duration_in_traffic_value</th>\n",
       "      <th>duration_text</th>\n",
       "      <th>duration_value</th>\n",
       "      <th>ambulance</th>\n",
       "      <th>amb_lat</th>\n",
       "      <th>amb_long</th>\n",
       "      <th>call_lat</th>\n",
       "      <th>call_long</th>\n",
       "    </tr>\n",
       "  </thead>\n",
       "  <tbody>\n",
       "    <tr>\n",
       "      <th>0</th>\n",
       "      <td>13.8 mi</td>\n",
       "      <td>22205</td>\n",
       "      <td>24 mins</td>\n",
       "      <td>1413</td>\n",
       "      <td>25 mins</td>\n",
       "      <td>1496</td>\n",
       "      <td>amb_1</td>\n",
       "      <td>37.615223</td>\n",
       "      <td>-122.389977</td>\n",
       "      <td>37.788001</td>\n",
       "      <td>-122.407409</td>\n",
       "    </tr>\n",
       "    <tr>\n",
       "      <th>1</th>\n",
       "      <td>1.6 mi</td>\n",
       "      <td>2544</td>\n",
       "      <td>13 mins</td>\n",
       "      <td>801</td>\n",
       "      <td>14 mins</td>\n",
       "      <td>851</td>\n",
       "      <td>amb_2</td>\n",
       "      <td>37.802400</td>\n",
       "      <td>-122.405800</td>\n",
       "      <td>37.788001</td>\n",
       "      <td>-122.407409</td>\n",
       "    </tr>\n",
       "    <tr>\n",
       "      <th>2</th>\n",
       "      <td>4.1 mi</td>\n",
       "      <td>6520</td>\n",
       "      <td>21 mins</td>\n",
       "      <td>1258</td>\n",
       "      <td>23 mins</td>\n",
       "      <td>1359</td>\n",
       "      <td>amb_3</td>\n",
       "      <td>37.750238</td>\n",
       "      <td>-122.433703</td>\n",
       "      <td>37.788001</td>\n",
       "      <td>-122.407409</td>\n",
       "    </tr>\n",
       "    <tr>\n",
       "      <th>3</th>\n",
       "      <td>1.8 mi</td>\n",
       "      <td>2934</td>\n",
       "      <td>11 mins</td>\n",
       "      <td>636</td>\n",
       "      <td>11 mins</td>\n",
       "      <td>674</td>\n",
       "      <td>amb_5</td>\n",
       "      <td>37.774929</td>\n",
       "      <td>-122.419416</td>\n",
       "      <td>37.788001</td>\n",
       "      <td>-122.407409</td>\n",
       "    </tr>\n",
       "    <tr>\n",
       "      <th>4</th>\n",
       "      <td>1.2 mi</td>\n",
       "      <td>1951</td>\n",
       "      <td>8 mins</td>\n",
       "      <td>477</td>\n",
       "      <td>8 mins</td>\n",
       "      <td>494</td>\n",
       "      <td>amb_7</td>\n",
       "      <td>37.785413</td>\n",
       "      <td>-122.429383</td>\n",
       "      <td>37.788001</td>\n",
       "      <td>-122.407409</td>\n",
       "    </tr>\n",
       "    <tr>\n",
       "      <th>5</th>\n",
       "      <td>44.1 mi</td>\n",
       "      <td>70986</td>\n",
       "      <td>52 mins</td>\n",
       "      <td>3144</td>\n",
       "      <td>57 mins</td>\n",
       "      <td>3400</td>\n",
       "      <td>amb_8</td>\n",
       "      <td>37.403204</td>\n",
       "      <td>-121.969841</td>\n",
       "      <td>37.788001</td>\n",
       "      <td>-122.407409</td>\n",
       "    </tr>\n",
       "    <tr>\n",
       "      <th>6</th>\n",
       "      <td>1.4 mi</td>\n",
       "      <td>2243</td>\n",
       "      <td>9 mins</td>\n",
       "      <td>564</td>\n",
       "      <td>10 mins</td>\n",
       "      <td>627</td>\n",
       "      <td>amb_9</td>\n",
       "      <td>37.799263</td>\n",
       "      <td>-122.397673</td>\n",
       "      <td>37.788001</td>\n",
       "      <td>-122.407409</td>\n",
       "    </tr>\n",
       "    <tr>\n",
       "      <th>7</th>\n",
       "      <td>0.6 mi</td>\n",
       "      <td>953</td>\n",
       "      <td>5 mins</td>\n",
       "      <td>277</td>\n",
       "      <td>5 mins</td>\n",
       "      <td>308</td>\n",
       "      <td>amb_10</td>\n",
       "      <td>37.785718</td>\n",
       "      <td>-122.401051</td>\n",
       "      <td>37.788001</td>\n",
       "      <td>-122.407409</td>\n",
       "    </tr>\n",
       "  </tbody>\n",
       "</table>\n",
       "</div>"
      ],
      "text/plain": [
       "  distance_text distance_value duration_in_traffic_text  \\\n",
       "0       13.8 mi          22205                  24 mins   \n",
       "1        1.6 mi           2544                  13 mins   \n",
       "2        4.1 mi           6520                  21 mins   \n",
       "3        1.8 mi           2934                  11 mins   \n",
       "4        1.2 mi           1951                   8 mins   \n",
       "5       44.1 mi          70986                  52 mins   \n",
       "6        1.4 mi           2243                   9 mins   \n",
       "7        0.6 mi            953                   5 mins   \n",
       "\n",
       "  duration_in_traffic_value duration_text duration_value ambulance    amb_lat  \\\n",
       "0                      1413       25 mins           1496     amb_1  37.615223   \n",
       "1                       801       14 mins            851     amb_2  37.802400   \n",
       "2                      1258       23 mins           1359     amb_3  37.750238   \n",
       "3                       636       11 mins            674     amb_5  37.774929   \n",
       "4                       477        8 mins            494     amb_7  37.785413   \n",
       "5                      3144       57 mins           3400     amb_8  37.403204   \n",
       "6                       564       10 mins            627     amb_9  37.799263   \n",
       "7                       277        5 mins            308    amb_10  37.785718   \n",
       "\n",
       "     amb_long   call_lat   call_long  \n",
       "0 -122.389977  37.788001 -122.407409  \n",
       "1 -122.405800  37.788001 -122.407409  \n",
       "2 -122.433703  37.788001 -122.407409  \n",
       "3 -122.419416  37.788001 -122.407409  \n",
       "4 -122.429383  37.788001 -122.407409  \n",
       "5 -121.969841  37.788001 -122.407409  \n",
       "6 -122.397673  37.788001 -122.407409  \n",
       "7 -122.401051  37.788001 -122.407409  "
      ]
     },
     "execution_count": 40,
     "metadata": {},
     "output_type": "execute_result"
    }
   ],
   "source": [
    "options"
   ]
  },
  {
   "cell_type": "code",
   "execution_count": 155,
   "metadata": {
    "collapsed": false
   },
   "outputs": [],
   "source": [
    "# Select ambulance for response based on desired metric\n",
    "chosen = options.loc[options.duration_in_traffic_value == min(options.duration_in_traffic_value)].index[0]"
   ]
  },
  {
   "cell_type": "code",
   "execution_count": 156,
   "metadata": {
    "collapsed": false
   },
   "outputs": [
    {
     "data": {
      "text/plain": [
       "'amb_10'"
      ]
     },
     "execution_count": 156,
     "metadata": {},
     "output_type": "execute_result"
    }
   ],
   "source": [
    "chosen"
   ]
  },
  {
   "cell_type": "markdown",
   "metadata": {},
   "source": [
    "# For later (if we need to parse UI input)"
   ]
  },
  {
   "cell_type": "code",
   "execution_count": null,
   "metadata": {
    "collapsed": true
   },
   "outputs": [],
   "source": [
    "# Geocoding an address\n",
    "# geocode_result = gmaps.geocode('1600 Amphitheatre Parkway, Mountain View, CA')"
   ]
  }
 ],
 "metadata": {
  "anaconda-cloud": {},
  "kernelspec": {
   "display_name": "Python [conda root]",
   "language": "python",
   "name": "conda-root-py"
  },
  "language_info": {
   "codemirror_mode": {
    "name": "ipython",
    "version": 3
   },
   "file_extension": ".py",
   "mimetype": "text/x-python",
   "name": "python",
   "nbconvert_exporter": "python",
   "pygments_lexer": "ipython3",
   "version": "3.5.2"
  }
 },
 "nbformat": 4,
 "nbformat_minor": 1
}
